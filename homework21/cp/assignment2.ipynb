{
 "cells": [
  {
   "cell_type": "markdown",
   "metadata": {},
   "source": [
    "# Logistic Map (part 2)"
   ]
  },
  {
   "cell_type": "markdown",
   "metadata": {},
   "source": [
    "로지스틱 맵은 다음처럼 주어진다.\n",
    "$$ f_{n+1} = r f_n (1- f_n). $$  \n",
    "\n",
    "주어진 $r$과 초기조건 $f_0$에 대해 $f_n$을 다음의 과정을 통해 구하여라. \n",
    "\n",
    "Reference:  \n",
    "https://ko.wikipedia.org/wiki/%EB%A1%9C%EC%A7%80%EC%8A%A4%ED%8B%B1_%EC%82%AC%EC%83%81"
   ]
  },
  {
   "cell_type": "markdown",
   "metadata": {},
   "source": [
    "1. $f_n$을 구하는 함수를 작성하여라.\n",
    "2. 작성한 함수를 이용하여 다음의 조건에서 $n=1$에서 $20$까지 로지스틱 맵의 값을 구하여라.\n",
    "  * $r=4.5$, $f_0$=0.5\n",
    "  * $r=4.5$, $f_0$=0.51\n",
    "  * $r=4.5$, $f_0$=0.501"
   ]
  },
  {
   "cell_type": "markdown",
   "metadata": {},
   "source": [
    "# 피보나치 수 (Fibonacci numbers)"
   ]
  },
  {
   "cell_type": "markdown",
   "metadata": {},
   "source": [
    "피보나치 수(Fibonacci numbers)는 처음 두 개의 항이 1이며 그 뒤의 모든 항은 앞의 두 개의 항의 합으로 주어지는 수열이다. 따라서 다음처럼 주어지는 수열이다.   \n",
    "\n",
    "$$1, 1, 2, 3, 5, 8, \\cdots$$  \n",
    "\n",
    "$n$번째 피보나치 수 $F_n$은 다음의 식으로 구할 수 있다.\n",
    "$F_1=F_2=1$,  $F_n=F_{n-1}+F_{n-2}$, ($n \\in \\{3,4,\\cdots \\} $)\n",
    "\n",
    "\n",
    "$n$번째 피보나치 수를 구하는 함수를 프로그래밍하여라. "
   ]
  },
  {
   "cell_type": "markdown",
   "metadata": {},
   "source": [
    "### 숙제 마감시간은 3월 22일 자정입니다."
   ]
  },
  {
   "cell_type": "code",
   "execution_count": null,
   "metadata": {},
   "outputs": [],
   "source": []
  }
 ],
 "metadata": {
  "kernelspec": {
   "display_name": "Python 3",
   "language": "python",
   "name": "python3"
  },
  "language_info": {
   "codemirror_mode": {
    "name": "ipython",
    "version": 3
   },
   "file_extension": ".py",
   "mimetype": "text/x-python",
   "name": "python",
   "nbconvert_exporter": "python",
   "pygments_lexer": "ipython3",
   "version": "3.7.4"
  }
 },
 "nbformat": 4,
 "nbformat_minor": 2
}
