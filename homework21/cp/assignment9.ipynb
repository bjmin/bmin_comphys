{
 "cells": [
  {
   "cell_type": "markdown",
   "metadata": {},
   "source": [
    "# Travelling salesman"
   ]
  },
  {
   "cell_type": "markdown",
   "metadata": {},
   "source": [
    "simulated annealind을 이용해서 다음의 10개의 도시를 한번씩 방문하는 최단 거리를 구하세요."
   ]
  },
  {
   "cell_type": "code",
   "execution_count": 152,
   "metadata": {},
   "outputs": [],
   "source": [
    "import numpy as np\n",
    "import matplotlib.pyplot as plt\n",
    "import random\n",
    "\n",
    "# x=[random.randint(0,20) for i in range(10)]\n",
    "# y=[random.randint(0,20) for i in range(10)]\n",
    "x = [20, 3, 4, 10, 12, 7, 15, 5, 20, 10]\n",
    "y = [11, 10, 1, 2, 12, 16, 14, 14, 19, 20]"
   ]
  },
  {
   "cell_type": "code",
   "execution_count": 153,
   "metadata": {},
   "outputs": [
    {
     "data": {
      "text/plain": [
       "[<matplotlib.lines.Line2D at 0x7ffa891adb50>]"
      ]
     },
     "execution_count": 153,
     "metadata": {},
     "output_type": "execute_result"
    },
    {
     "data": {
      "image/png": "[encoded data removed]",
      "text/plain": [
       "<Figure size 432x288 with 1 Axes>"
      ]
     },
     "metadata": {
      "needs_background": "light"
     },
     "output_type": "display_data"
    }
   ],
   "source": [
    "plt.plot(x,y,'o')"
   ]
  },
  {
   "cell_type": "markdown",
   "metadata": {},
   "source": [
    "예를 들어 위의 도시를 다음의 순서로 방문했다고 생각해 봅시다. 이 때 총 이동거리는 구해봅시다."
   ]
  },
  {
   "cell_type": "code",
   "execution_count": 154,
   "metadata": {},
   "outputs": [
    {
     "data": {
      "text/plain": [
       "[<matplotlib.lines.Line2D at 0x7ffad8800790>]"
      ]
     },
     "execution_count": 154,
     "metadata": {},
     "output_type": "execute_result"
    },
    {
     "data": {
      "image/png": "[encoded data removed]",
      "text/plain": [
       "<Figure size 432x288 with 1 Axes>"
      ]
     },
     "metadata": {
      "needs_background": "light"
     },
     "output_type": "display_data"
    }
   ],
   "source": [
    "plt.plot(x,y)"
   ]
  },
  {
   "cell_type": "code",
   "execution_count": 155,
   "metadata": {},
   "outputs": [
    {
     "data": {
      "text/plain": [
       "92.87617247217857"
      ]
     },
     "execution_count": 155,
     "metadata": {},
     "output_type": "execute_result"
    }
   ],
   "source": [
    "def dist(x,y):\n",
    "    z=0\n",
    "    for i in range(9):\n",
    "        z+=np.sqrt((x[i+1]-x[i])**2+(y[i+1]-y[i])**2)\n",
    "    return z\n",
    "dist(x,y)"
   ]
  },
  {
   "cell_type": "code",
   "execution_count": 156,
   "metadata": {},
   "outputs": [],
   "source": [
    "def de(i,j,x,y):\n",
    "    nx, ny = x[:], y[:]\n",
    "    nx[i], nx[j] = nx[j], nx[i]\n",
    "    ny[i], ny[j] = ny[j], ny[i]\n",
    "    return dist(nx,ny)-dist(x,y)"
   ]
  },
  {
   "cell_type": "code",
   "execution_count": 183,
   "metadata": {},
   "outputs": [],
   "source": [
    "import random\n",
    "\n",
    "def swap(x,y,b):\n",
    "    i=random.randint(0,9)\n",
    "    j=random.randint(0,9)\n",
    "    delta=de(i,j,x,y)\n",
    "    if(delta<0):\n",
    "        x[i], x[j] = x[j], x[i]\n",
    "        y[i], y[j] = y[j], y[i]\n",
    "    else:\n",
    "        if(random.random()<np.exp(-b*delta)):\n",
    "            x[i], x[j] = x[j], x[i]\n",
    "\n",
    "            y[i], y[j] = y[j], y[i]\n",
    "    return x,y"
   ]
  },
  {
   "cell_type": "code",
   "execution_count": 184,
   "metadata": {},
   "outputs": [
    {
     "data": {
      "text/plain": [
       "([10, 4, 3, 5, 7, 10, 12, 15, 20, 20], [2, 1, 10, 14, 16, 20, 12, 14, 11, 19])"
      ]
     },
     "execution_count": 184,
     "metadata": {},
     "output_type": "execute_result"
    }
   ],
   "source": [
    "swap(x,y,1)"
   ]
  },
  {
   "cell_type": "code",
   "execution_count": null,
   "metadata": {},
   "outputs": [],
   "source": []
  }
 ],
 "metadata": {
  "kernelspec": {
   "display_name": "Python 3",
   "language": "python",
   "name": "python3"
  },
  "language_info": {
   "codemirror_mode": {
    "name": "ipython",
    "version": 3
   },
   "file_extension": ".py",
   "mimetype": "text/x-python",
   "name": "python",
   "nbconvert_exporter": "python",
   "pygments_lexer": "ipython3",
   "version": "3.7.4"
  }
 },
 "nbformat": 4,
 "nbformat_minor": 2
}
