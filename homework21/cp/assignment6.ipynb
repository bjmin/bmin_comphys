{
 "cells": [
  {
   "cell_type": "markdown",
   "metadata": {},
   "source": [
    "# 1. Pendulum"
   ]
  },
  {
   "cell_type": "markdown",
   "metadata": {},
   "source": [
    "다음처럼 주어지는 진자의 운동방정식을 풀어라.\n",
    "$$ \\frac{d^2 \\theta}{dt^2}  + \\frac{g}{L} \\sin \\theta = 0. $$ \n",
    "$\\beta$는 마찰의 세기, $L$은 진자의 길이, $g$는 중력가속도이다. 흔히 작은 $\\theta$를 가정하고 \n",
    "$\\sin\\theta \\approx \\theta$ 근사를 이용하여 해석적인 해를 구한다. \n",
    "여기에서는 $\\sin \\theta$를 직접 이용하여 수치해를 구해보자.  \n",
    "\n",
    "2차 미분방정식을 2개의 1차 미분방정식으로 분리하자.\n",
    "$$ \\frac{d\\theta}{dt} = w, \\\\\n",
    "\\frac{d w}{dt} = - \\frac{g}{L} \\sin \\theta . $$ \n",
    "\n",
    "$\\frac{g}{L}=1$을 가정하고 운동의 해를 구해보자. scipy.integrate.odeint를 포함하여 어떤 방법을 이용하여도 된다."
   ]
  },
  {
   "cell_type": "markdown",
   "metadata": {},
   "source": [
    "# 2. Pendulum (small oscillations)"
   ]
  },
  {
   "cell_type": "markdown",
   "metadata": {},
   "source": [
    "1번 문제와 같은 진자에 대해 평형점 근처에서 조금씩 진동하고 있는 상황을 고려하자. 그러면  \n",
    "$\\sin\\theta \\approx \\theta$ 근사를 적용할 수 있다. \n",
    "\n",
    "이 경우는 다음과 같은 2개의 1차 미분방정식을 얻는다. \n",
    "$$ \\frac{d\\theta}{dt} = w, \\\\\n",
    "\\frac{d w}{dt} =  - \\frac{g}{L} \\theta . $$ \n",
    "\n",
    "$\\frac{g}{L}=1$을 가정하고 운동의 해를 구해보자. scipy.integrate.odeint를 포함하여 어떤 방법을 이용하여도 된다. 초기 조건 $\\theta_o, w_o$를 바꾸어 가면서 1번 문제의 결과와 비교해보자."
   ]
  },
  {
   "cell_type": "markdown",
   "metadata": {},
   "source": [
    "# 3. Damped Pendulum"
   ]
  },
  {
   "cell_type": "markdown",
   "metadata": {},
   "source": [
    "다음처럼 주어지는 damped 진자의 운동방정식을 풀어라.\n",
    "$$ \\frac{d^2 \\theta}{dt^2} + \\beta \\frac{d \\theta}{dt} + \\frac{g}{L} \\sin \\theta = 0. $$ \n",
    "$\\beta$는 마찰의 세기, $L$은 진자의 길이, $g$는 중력가속도이다. \n",
    "\n",
    "우선 2차 미분방정식을 2개의 1차 미분방정식으로 분리해 보자.\n",
    "$$ \\frac{d\\theta}{dt} = w, \\\\\n",
    "\\frac{d w}{dt} = - \\beta w - \\frac{g}{L} \\sin \\theta . $$ \n",
    "\n",
    "초기 상태는 $\\theta_0 = 1, w_0 =0$이며 $\\beta=0.1, \\frac{g}{L}=1$을 가정하고 운동의 해를 구해보자. scipy.integrate.odeint를 포함하여 어떤 방법을 이용하여도 된다."
   ]
  },
  {
   "cell_type": "markdown",
   "metadata": {},
   "source": [
    "# 4. Forced Pendulum"
   ]
  },
  {
   "cell_type": "markdown",
   "metadata": {},
   "source": [
    "다음처럼 주어지는 forced 진자의 운동방정식을 풀어라.\n",
    "$$ \\frac{d^2 \\theta}{dt^2} + \\beta \\frac{d \\theta}{dt} + \\frac{g}{L} \\sin \\theta = A \\cos (v t). $$ \n",
    "$\\beta$는 마찰의 세기, $L$은 진자의 길이, $g$는 중력가속도, $A$는 외부에서 주어지는 힘의 진폭, $v$는 외부에서 주어지는 힘의 진동수이다. \n",
    "\n",
    "forced 진자의 움직임을 구해보고 $v$의 효과에 대해 살펴보아라."
   ]
  },
  {
   "cell_type": "code",
   "execution_count": null,
   "metadata": {},
   "outputs": [],
   "source": []
  }
 ],
 "metadata": {
  "kernelspec": {
   "display_name": "Python 3",
   "language": "python",
   "name": "python3"
  },
  "language_info": {
   "codemirror_mode": {
    "name": "ipython",
    "version": 3
   },
   "file_extension": ".py",
   "mimetype": "text/x-python",
   "name": "python",
   "nbconvert_exporter": "python",
   "pygments_lexer": "ipython3",
   "version": "3.7.4"
  }
 },
 "nbformat": 4,
 "nbformat_minor": 2
}
