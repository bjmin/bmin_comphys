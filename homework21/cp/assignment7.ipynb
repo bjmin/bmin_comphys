{
 "cells": [
  {
   "cell_type": "markdown",
   "metadata": {},
   "source": [
    "# Pauli Matrices\n",
    "\n",
    "파울리 행렬의 아이겐밸류와 아이겐벡터를 구하시오.  \n",
    "\n",
    "$$ s_x = \\begin{pmatrix} 0 & 1 \\\\ 1 & 0 \\end{pmatrix}, \\quad\n",
    "s_y = \\begin{pmatrix} 0 & -j \\\\ j & 0 \\end{pmatrix}, \\quad\n",
    "s_z  = \\begin{pmatrix} 1 & 0 \\\\ 0 & -1 \\end{pmatrix}. $$"
   ]
  },
  {
   "cell_type": "code",
   "execution_count": 11,
   "metadata": {},
   "outputs": [],
   "source": [
    "# 파이썬에서 허수 i를 j 혹은 J로 표현한다. \n",
    "# 예를 들어,\n",
    "a = 3 + 2j\n",
    "b = 5 - 3j"
   ]
  },
  {
   "cell_type": "markdown",
   "metadata": {},
   "source": [
    "# Normal Modes "
   ]
  },
  {
   "cell_type": "markdown",
   "metadata": {},
   "source": [
    "(고전역학 by Thornton & Marion 챕터 12.2 및 예제 12.3 참조)\n",
    "용수철 상수가 $k$인 용수철에 연결된 두 개의 물체의 노말 모드를 구해보자. 두 개의 물체의 운동방정식은 다음으로 주어진다.\n",
    "$$ -m w^2 x_1 = -2kx_1 +k x_2, \\\\\n",
    "-m w^2 x_2 = k x_1 - 2 k x_2.$$\n",
    "eigenfrequencies $w$는 다음의 행렬식을 통해 구할 수 있다.\n",
    "$$ \\frac{k}{m w^2} \\begin{pmatrix} 2 & -1 \\\\ -1 & 2 \\end{pmatrix} \n",
    "\\begin{pmatrix} x_1 \\\\ x_2 \\end{pmatrix}=\n",
    "\\lambda \\begin{pmatrix} x_1 \\\\ x_2 \\end{pmatrix} $$"
   ]
  },
  {
   "cell_type": "code",
   "execution_count": 1,
   "metadata": {},
   "outputs": [
    {
     "data": {
      "text/plain": [
       "(array([3., 1.]), array([[ 0.70710678,  0.70710678],\n",
       "        [-0.70710678,  0.70710678]]))"
      ]
     },
     "execution_count": 1,
     "metadata": {},
     "output_type": "execute_result"
    }
   ],
   "source": [
    "# 위의 행렬의 고유값을 구하자."
   ]
  },
  {
   "cell_type": "markdown",
   "metadata": {},
   "source": [
    "따라서 eigenfrequencies는\n",
    "$$ w_1 = \\sqrt{\\frac{k}{m}}, \\quad w_2 = \\sqrt{\\frac{3k}{m}}. $$"
   ]
  },
  {
   "cell_type": "markdown",
   "metadata": {},
   "source": [
    "위에서 구한 아이겐벡터와 아이겐밸류의 의미를 설명하여라."
   ]
  },
  {
   "cell_type": "code",
   "execution_count": null,
   "metadata": {},
   "outputs": [],
   "source": []
  },
  {
   "cell_type": "code",
   "execution_count": null,
   "metadata": {},
   "outputs": [],
   "source": []
  },
  {
   "cell_type": "code",
   "execution_count": null,
   "metadata": {},
   "outputs": [],
   "source": []
  }
 ],
 "metadata": {
  "kernelspec": {
   "display_name": "Python 3",
   "language": "python",
   "name": "python3"
  },
  "language_info": {
   "codemirror_mode": {
    "name": "ipython",
    "version": 3
   },
   "file_extension": ".py",
   "mimetype": "text/x-python",
   "name": "python",
   "nbconvert_exporter": "python",
   "pygments_lexer": "ipython3",
   "version": "3.7.4"
  }
 },
 "nbformat": 4,
 "nbformat_minor": 2
}
