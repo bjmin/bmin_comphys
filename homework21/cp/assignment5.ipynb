{
 "cells": [
  {
   "cell_type": "markdown",
   "metadata": {},
   "source": [
    "## Vibration in a one-dimensional system"
   ]
  },
  {
   "cell_type": "markdown",
   "metadata": {},
   "source": [
    "### 이 문제는 중요합니다. 왜냐하면\n",
    "1. 조화진동자 문제는 물리학에서 매우 중요하기 때문입니다.\n",
    "2. 앞으로 이어질 행렬, 미분방정식, 고유값 문제에 대한 3개의 연속된 강의에서 이 문제가 반복해서 숙제로 제출될 예정입니다.\n",
    "\n",
    "질량이 $m$인 $N$개의 동일한 물체가 일렬로 동일한 용수철에 매달려 있다. $i$번째 물체의 운동방정식은 다음처럼 주어진다.  \n",
    "$$m \\frac{d^2 x_i}{dt^2} = k(x_{i+1}-x_{i}) - k(x_i-x_{i-1})$$  \n",
    "한쪽 끝에서 연결된 용수철에 주기적인 힘($F$)을 가하고 있다. 그러면 양 끝단에 물체에 운동방정식은 다음과 같다.  \n",
    "$$m \\frac{d^2 x_1}{dt^2} = k(x_{2}-x_{1}) + F \\\\\n",
    "m \\frac{d^2 x_N}{dt^2} = -k(x_{N}-x_{N-1})$$  \n",
    "만약 주기적인 힘이 $F=C e^{i wt}$로 주어지면 $x$는 다음의 $x_i(t)=a_i e^{iwt}$해를 가진다.  정리하면 다음과 같은 방정식을 얻을 수 있다.  \n",
    "$$(d -k)a_1 -k a_2 = C, \\\\\n",
    "d a_i - k a_{i-1}- k a_{i+1} = 0, \\\\\n",
    "(d - k)a_N - k x_{N-1} =0$$  \n",
    "여기에서 $d=2k-mw^2$이다.\n",
    "\n",
    "위의 운동방정식을 행렬로 표현하면 다음과 같다.  \n",
    "$$Ma=b $$\n",
    "$$M=\n",
    "\\begin{pmatrix}\n",
    "d-k & -k & 0 & 0 & 0 & \\cdots \\\\\n",
    "-k & d & -k & 0 & 0 & \\cdots \\\\\n",
    "0 & -k & d & -k & 0 & \\cdots \\\\\n",
    "\\cdots &\\cdots &\\cdots &\\cdots &\\cdots & \\cdots  \\\\\n",
    "0 & 0 & 0& 0& -k & d-k \n",
    "\\end{pmatrix} $$\n",
    "$$\n",
    "a=\n",
    "\\begin{pmatrix}\n",
    "a_1 \\\\ \n",
    "a_2 \\\\ \n",
    "a_3 \\\\ \n",
    "\\cdots \\\\ \n",
    "a_N  \n",
    "\\end{pmatrix}$$\n",
    "$$\n",
    "b=\n",
    "\\begin{pmatrix}\n",
    "C \\\\ \n",
    "0 \\\\ \n",
    "0 \\\\ \n",
    "\\cdots \\\\ \n",
    "0 \n",
    "\\end{pmatrix}\n",
    "$$  \n"
   ]
  },
  {
   "cell_type": "markdown",
   "metadata": {},
   "source": [
    "* 다음의 조건에서 물체들의 운동의 진폭 $a_i$를 구하고 그림으로 표현하여라.  \n",
    "* $N=100$, $m=1$, $k=10$, $w=2$, $C=1$이며 따라서 $d=16$이다.  \n",
    "* 100X100 행렬을 직접 입력하는 것을 금지하지는 않지만 그렇게 하지 않기를 바랍니다.\n",
    "* np.zeros(n) 함수는 크기가 n이며 모든 성분이 0인 배열을 만드는 명령어이다. "
   ]
  },
  {
   "cell_type": "code",
   "execution_count": 9,
   "metadata": {},
   "outputs": [
    {
     "data": {
      "text/plain": [
       "array([1., 0., 0., 0., 0., 0., 0., 0., 0., 0., 0., 0., 0., 0., 0., 0., 0.,\n",
       "       0., 0., 0., 0., 0., 0., 0., 0., 0., 0., 0., 0., 0., 0., 0., 0., 0.,\n",
       "       0., 0., 0., 0., 0., 0., 0., 0., 0., 0., 0., 0., 0., 0., 0., 0., 0.,\n",
       "       0., 0., 0., 0., 0., 0., 0., 0., 0., 0., 0., 0., 0., 0., 0., 0., 0.,\n",
       "       0., 0., 0., 0., 0., 0., 0., 0., 0., 0., 0., 0., 0., 0., 0., 0., 0.,\n",
       "       0., 0., 0., 0., 0., 0., 0., 0., 0., 0., 0., 0., 0., 0., 0.])"
      ]
     },
     "execution_count": 9,
     "metadata": {},
     "output_type": "execute_result"
    }
   ],
   "source": [
    "import numpy as np\n",
    "b=np.zeros(100)\n",
    "b[0]=1\n",
    "b"
   ]
  },
  {
   "cell_type": "code",
   "execution_count": null,
   "metadata": {},
   "outputs": [],
   "source": []
  },
  {
   "cell_type": "code",
   "execution_count": null,
   "metadata": {},
   "outputs": [],
   "source": []
  },
  {
   "cell_type": "code",
   "execution_count": null,
   "metadata": {},
   "outputs": [],
   "source": []
  },
  {
   "cell_type": "code",
   "execution_count": null,
   "metadata": {},
   "outputs": [],
   "source": []
  },
  {
   "cell_type": "code",
   "execution_count": null,
   "metadata": {},
   "outputs": [],
   "source": []
  },
  {
   "cell_type": "code",
   "execution_count": null,
   "metadata": {},
   "outputs": [],
   "source": []
  },
  {
   "cell_type": "code",
   "execution_count": null,
   "metadata": {},
   "outputs": [],
   "source": []
  },
  {
   "cell_type": "code",
   "execution_count": null,
   "metadata": {},
   "outputs": [],
   "source": []
  },
  {
   "cell_type": "code",
   "execution_count": null,
   "metadata": {},
   "outputs": [],
   "source": []
  },
  {
   "cell_type": "code",
   "execution_count": null,
   "metadata": {},
   "outputs": [],
   "source": []
  },
  {
   "cell_type": "code",
   "execution_count": null,
   "metadata": {},
   "outputs": [],
   "source": []
  },
  {
   "cell_type": "code",
   "execution_count": null,
   "metadata": {},
   "outputs": [],
   "source": []
  },
  {
   "cell_type": "code",
   "execution_count": null,
   "metadata": {},
   "outputs": [],
   "source": []
  },
  {
   "cell_type": "code",
   "execution_count": null,
   "metadata": {},
   "outputs": [],
   "source": []
  },
  {
   "cell_type": "code",
   "execution_count": null,
   "metadata": {},
   "outputs": [],
   "source": []
  }
 ],
 "metadata": {
  "kernelspec": {
   "display_name": "Python 3",
   "language": "python",
   "name": "python3"
  },
  "language_info": {
   "codemirror_mode": {
    "name": "ipython",
    "version": 3
   },
   "file_extension": ".py",
   "mimetype": "text/x-python",
   "name": "python",
   "nbconvert_exporter": "python",
   "pygments_lexer": "ipython3",
   "version": "3.7.4"
  }
 },
 "nbformat": 4,
 "nbformat_minor": 2
}
