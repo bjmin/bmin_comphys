{
 "cells": [
  {
   "cell_type": "markdown",
   "metadata": {},
   "source": [
    "# 1. Vibration in a one-dimensional system"
   ]
  },
  {
   "cell_type": "markdown",
   "metadata": {},
   "source": [
    "질량이 $m$인 $N$개의 동일한 물체가 일렬로 동일한 용수철에 매달려 있다. $i$번째 물체의 운동방정식은 다음처럼 주어진다.  \n",
    "$$m \\frac{d^2 x_i}{dt^2} = k(x_{i+1}-x_{i}) - k(x_i-x_{i-1})$$  \n",
    "한쪽 끝에서 연결된 용수철에 주기적인 힘($F$)을 가하고 있다. 그러면 양 끝단에 물체에 운동방정식은 다음과 같다.  \n",
    "$$m \\frac{d^2 x_1}{dt^2} = k(x_{2}-x_{1}) + F \\\\\n",
    "m \\frac{d^2 x_N}{dt^2} = -k(x_{N}-x_{N-1})$$  \n",
    "만약 주기적인 힘이 $F=C e^{i wt}$로 주어지면 $x$는 다음의 $x_i(t)=a_i e^{iwt}$해를 가진다.  정리하면 다음과 같은 방정식을 얻을 수 있다.  \n",
    "$$(d -k)a_1 -k a_2 = C, \\\\\n",
    "d a_i - k a_{i-1}- k a_{i+1} = 0, \\\\\n",
    "(d - k)a_N - k x_{N-1} =0$$  \n",
    "여기에서 $d=2k-mw^2$이다.\n",
    "\n",
    "위의 운동방정식을 행렬로 표현하면 다음과 같다.  \n",
    "$$Ma=b $$\n",
    "$$\n",
    "M=\n",
    "\\begin{pmatrix}\n",
    "d-k & -k & 0 & 0 & 0 & \\cdots \\\\\n",
    "-k & d & -k & 0 & 0 & \\cdots \\\\\n",
    "0 & -k & d & -k & 0 & \\cdots \\\\\n",
    "\\cdots &\\cdots &\\cdots &\\cdots &\\cdots & \\cdots  \\\\\n",
    "0 & 0 & 0& 0& -k & d-k \n",
    "\\end{pmatrix}, \\quad\n",
    "a=\n",
    "\\begin{pmatrix}\n",
    "a_1 \\\\ \n",
    "a_2 \\\\ \n",
    "a_3 \\\\ \n",
    "\\cdots \\\\ \n",
    "a_N  \n",
    "\\end{pmatrix}, \\quad\n",
    "b=\n",
    "\\begin{pmatrix}\n",
    "C \\\\ \n",
    "0 \\\\ \n",
    "0 \\\\ \n",
    "\\cdots \\\\ \n",
    "0 \n",
    "\\end{pmatrix}\n",
    "$$  \n"
   ]
  },
  {
   "cell_type": "markdown",
   "metadata": {},
   "source": [
    "* $m=1$, $k=1$, $C=1$, $N=40$으로 고정하세요.   \n",
    "* $w$ (즉, d)를 바꾸어가면서 $a_i$를 구하세요. \n",
    "* 이를 그래프로 표현하고 의미를 설명하세요."
   ]
  },
  {
   "cell_type": "markdown",
   "metadata": {},
   "source": [
    "* 100X100 행렬을 직접 입력하는 것을 금지하지는 않지만 그렇게 하지 않기를 바랍니다.\n",
    "* np.zeros(n) 함수는 크기가 n이며 모든 성분이 0인 배열을 만드는 명령어입니다. "
   ]
  },
  {
   "cell_type": "markdown",
   "metadata": {},
   "source": [
    "# 2. 양쪽 끝에서 힘을 가하면 어떻게 되는가?"
   ]
  },
  {
   "cell_type": "markdown",
   "metadata": {},
   "source": [
    "즉, b행렬이 다음과 같은 경우에 대해서 살펴보아라.\n",
    "$$\n",
    "b=\n",
    "\\begin{pmatrix}\n",
    "C \\\\ \n",
    "0 \\\\ \n",
    "0 \\\\ \n",
    "\\cdots \\\\ \n",
    "C \n",
    "\\end{pmatrix}\n",
    "$$ "
   ]
  },
  {
   "cell_type": "markdown",
   "metadata": {},
   "source": [
    "* $m=1$, $k=1$, $C=1$, $N=40$으로 고정하세요.   \n",
    "* $w$ (즉, d)를 바꾸어가면서 $a_i$를 구하세요. \n",
    "* 이를 그래프로 표현하고 의미를 설명하세요."
   ]
  },
  {
   "cell_type": "code",
   "execution_count": null,
   "metadata": {},
   "outputs": [],
   "source": []
  },
  {
   "cell_type": "code",
   "execution_count": null,
   "metadata": {},
   "outputs": [],
   "source": []
  },
  {
   "cell_type": "code",
   "execution_count": null,
   "metadata": {},
   "outputs": [],
   "source": []
  },
  {
   "cell_type": "code",
   "execution_count": null,
   "metadata": {},
   "outputs": [],
   "source": []
  },
  {
   "cell_type": "code",
   "execution_count": null,
   "metadata": {},
   "outputs": [],
   "source": []
  },
  {
   "cell_type": "code",
   "execution_count": null,
   "metadata": {},
   "outputs": [],
   "source": []
  },
  {
   "cell_type": "code",
   "execution_count": null,
   "metadata": {},
   "outputs": [],
   "source": []
  },
  {
   "cell_type": "code",
   "execution_count": null,
   "metadata": {},
   "outputs": [],
   "source": []
  },
  {
   "cell_type": "code",
   "execution_count": null,
   "metadata": {},
   "outputs": [],
   "source": []
  },
  {
   "cell_type": "code",
   "execution_count": null,
   "metadata": {},
   "outputs": [],
   "source": []
  },
  {
   "cell_type": "code",
   "execution_count": null,
   "metadata": {},
   "outputs": [],
   "source": []
  }
 ],
 "metadata": {
  "kernelspec": {
   "display_name": "Python 3",
   "language": "python",
   "name": "python3"
  },
  "language_info": {
   "codemirror_mode": {
    "name": "ipython",
    "version": 3
   },
   "file_extension": ".py",
   "mimetype": "text/x-python",
   "name": "python",
   "nbconvert_exporter": "python",
   "pygments_lexer": "ipython3",
   "version": "3.7.4"
  }
 },
 "nbformat": 4,
 "nbformat_minor": 2
}
