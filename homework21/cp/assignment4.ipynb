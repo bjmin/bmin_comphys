{
 "cells": [
  {
   "cell_type": "markdown",
   "metadata": {},
   "source": [
    "# 1. Error Function"
   ]
  },
  {
   "cell_type": "code",
   "execution_count": 2,
   "metadata": {},
   "outputs": [],
   "source": [
    "import matplotlib.pyplot as plt\n",
    "import numpy as np\n",
    "from scipy import integrate"
   ]
  },
  {
   "cell_type": "markdown",
   "metadata": {},
   "source": [
    "$$ erf(x) = \\frac{2}{\\sqrt{\\pi}} \\int_0^x e^{-t^2} dt. $$\n",
    "\n",
    "* 위와 같이 주어지는 에러함수를 수치적분을 이용하여 구하고 그래프를 그려라. (어떤 방법을 이용하든 관계없음)"
   ]
  },
  {
   "cell_type": "markdown",
   "metadata": {},
   "source": [
    "$$\n",
    "\\begin{align}\n",
    "erf(x) &= \\frac{2}{\\pi} \\sum_{n=0}^{\\infty} \\frac{ (-1)^n x^{2n+1}} { (2n+1) n!}  \\\\\n",
    "&= \\frac{2}{\\pi} \\left( x - \\frac{x^3}{3} + \\frac{x^5}{10} - \\frac{x^7}{42} + \\cdots \\right)\n",
    "\\end{align}\n",
    "$$\n",
    "\n",
    "* 에러함수를 테일러 전개하면 위와 같이 주어진다. 위의 전개식과 적분결과를 그래프로 그리고 비교하여라."
   ]
  },
  {
   "cell_type": "markdown",
   "metadata": {},
   "source": [
    "# 2. (Integration) Trigonometric Function\n",
    "* sin, cos함수를 trapezoidal 방법을 이용하여 직접 적분하고 그래프를 그려라. \n",
    "* sin, cos함수를 scipy.integrate 함수를 이용하여 적분하고 그래프를 그려라."
   ]
  },
  {
   "cell_type": "markdown",
   "metadata": {},
   "source": [
    "# 3. (Differentiation) Trigonometric Function\n",
    "* sin, cos함수의 도함수를 finite difference 방법을 이용하여 구현하고 그래프를 그려라.\n",
    "* sin, cos함수의 도함수를 scipy.misc.derivative 함수를 이용하여 구하고 그래프를 그려라."
   ]
  },
  {
   "cell_type": "code",
   "execution_count": null,
   "metadata": {},
   "outputs": [],
   "source": []
  }
 ],
 "metadata": {
  "kernelspec": {
   "display_name": "Python 3",
   "language": "python",
   "name": "python3"
  },
  "language_info": {
   "codemirror_mode": {
    "name": "ipython",
    "version": 3
   },
   "file_extension": ".py",
   "mimetype": "text/x-python",
   "name": "python",
   "nbconvert_exporter": "python",
   "pygments_lexer": "ipython3",
   "version": "3.7.4"
  }
 },
 "nbformat": 4,
 "nbformat_minor": 4
}
