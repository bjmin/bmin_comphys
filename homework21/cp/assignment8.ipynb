{
 "cells": [
  {
   "cell_type": "markdown",
   "metadata": {},
   "source": [
    "# Hypersphere"
   ]
  },
  {
   "cell_type": "markdown",
   "metadata": {},
   "source": [
    "$n$차원에서의 구를 초구(hypershpere)라고 한다. 반지름이 $r$인 2차권 구의 부피(면적)은 $S_2=\\pi r^2$, 3차원은 $S_3=\\frac{4}{3} \\pi r^3$이다. 이를 확장하여 4차원, 5차원 혹은 일반적으로 $n$차원 초구의 부피를 몬테카를로 방법을 이용하여 추측해보자. \n",
    "* $n$차원 구의 부피는 $S_n = C_n r^n$이다.\n",
    "* 따라서 반지름이 1인 구를 생각하면 $S_n=C_n$과 같다.\n",
    "* 몬테카를로 방법을 이용한 2차원 원의 면적 문제를 응용하여 3, 4, 5차원에서 $C_n$의 근사값을 구하여라.\n",
    "* $n$차원 구의 부피를 추측하여라."
   ]
  },
  {
   "cell_type": "code",
   "execution_count": 1,
   "metadata": {},
   "outputs": [],
   "source": [
    "# 다음의 2차원 원의 면적을 구하는 코드를 이용하여도 좋다.\n",
    "# finding the area of a circle with radius 1\n",
    "import random\n",
    "import numpy as np\n",
    "\n",
    "def s_circle(n):\n",
    "    count=0\n",
    "    for i in range(n):\n",
    "        x,y=random.random(), random.random()\n",
    "        if x*x+y*y<1:\n",
    "            count+=1\n",
    "    return count/n "
   ]
  },
  {
   "cell_type": "markdown",
   "metadata": {},
   "source": [
    "$$x^2 + y^2 + z^2 + w^2 = r^2$$"
   ]
  },
  {
   "cell_type": "code",
   "execution_count": null,
   "metadata": {},
   "outputs": [],
   "source": []
  }
 ],
 "metadata": {
  "kernelspec": {
   "display_name": "Python 3",
   "language": "python",
   "name": "python3"
  },
  "language_info": {
   "codemirror_mode": {
    "name": "ipython",
    "version": 3
   },
   "file_extension": ".py",
   "mimetype": "text/x-python",
   "name": "python",
   "nbconvert_exporter": "python",
   "pygments_lexer": "ipython3",
   "version": "3.7.4"
  }
 },
 "nbformat": 4,
 "nbformat_minor": 2
}
