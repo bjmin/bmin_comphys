{
 "cells": [
  {
   "cell_type": "markdown",
   "metadata": {},
   "source": [
    "- \"*\" 표식이 있는 숙제는 미제출"
   ]
  },
  {
   "cell_type": "markdown",
   "metadata": {},
   "source": [
    "# Anaconda & Jupyter *"
   ]
  },
  {
   "cell_type": "markdown",
   "metadata": {},
   "source": [
    "수업 실습을 진행하기 위해 아나콘다 배포판을 설치하여야 합니다. \n",
    "\n",
    "* 다음의 링크로 들어가서 아나콘다를 설치합시다. https://www.anaconda.com/distribution\n",
    "* Jupyter(아나콘다를 설치했다면이미 설치되어 있음) 사용법을 익혀둡니다.   \n",
    "* 본 강의는 아나콘다 배포판을 설치하고 쥬피터를 사용하는 것을 기본으로 진행합니다."
   ]
  },
  {
   "cell_type": "markdown",
   "metadata": {},
   "source": [
    "# Github desktop *"
   ]
  },
  {
   "cell_type": "markdown",
   "metadata": {},
   "source": [
    "다음의 차례대로 깃허브 사용법을 익히고 자신의 깃허브 저장소에 자신이 만든 파일을 업로드(push)해보시기 바랍니다. 이 과목의 숙제는 특별한 언급이 없으면 모두 github를 통해 제출할 예정입니다. \n",
    "1. github에 계정을 만든다.\n",
    "2. 새로운 저장소(repository)를 만든다. (create a new repository)\n",
    "3. github desktop을 다운로드 및 설치한다.\n",
    "4. 온라인 상의 저장소를 로컬컴퓨터로 가져온다. (pull)\n",
    "5. commit, push로 내 컴퓨터에 있는 파일을 저장소에 업데이트한다.\n",
    "\n",
    "참고 : 구글에 \"깃허브 사용법\", \"깃허브 데스크탑 사용법\"을 검색하세요."
   ]
  },
  {
   "cell_type": "markdown",
   "metadata": {},
   "source": [
    "# Sending email to teaching assistant"
   ]
  },
  {
   "cell_type": "markdown",
   "metadata": {},
   "source": [
    "수업 조교에게 다음의 이메일 주소로 메일을 보내세요. due 9월 15일 수업 시간 전까지\n",
    "* 본인의 이름과 학번을 밝히고\n",
    "* 자신의 github 주소를 알려주세요.  \n",
    "\n",
    "* 조교이메일 : joongjae93@chungbuk.ac.kr\n"
   ]
  },
  {
   "cell_type": "code",
   "execution_count": null,
   "metadata": {},
   "outputs": [],
   "source": []
  }
 ],
 "metadata": {
  "kernelspec": {
   "display_name": "Python 3",
   "language": "python",
   "name": "python3"
  },
  "language_info": {
   "codemirror_mode": {
    "name": "ipython",
    "version": 3
   },
   "file_extension": ".py",
   "mimetype": "text/x-python",
   "name": "python",
   "nbconvert_exporter": "python",
   "pygments_lexer": "ipython3",
   "version": "3.7.4"
  }
 },
 "nbformat": 4,
 "nbformat_minor": 2
}
