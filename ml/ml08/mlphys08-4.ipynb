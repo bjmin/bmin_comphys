{
 "cells": [
  {
   "cell_type": "markdown",
   "metadata": {},
   "source": [
    "# Validation (검증)"
   ]
  },
  {
   "cell_type": "code",
   "execution_count": 2,
   "metadata": {},
   "outputs": [],
   "source": [
    "# MNIST\n",
    "import numpy as np\n",
    "from tensorflow import keras\n",
    "from keras import models \n",
    "from keras import layers\n",
    "from keras.datasets import mnist\n",
    "from keras.utils import to_categorical\n",
    "import matplotlib.pyplot as plt"
   ]
  },
  {
   "cell_type": "code",
   "execution_count": 3,
   "metadata": {},
   "outputs": [],
   "source": [
    "(X_train, y_train), (X_test, y_test) = mnist.load_data()\n",
    "y_train=to_categorical(y_train)\n",
    "y_test=to_categorical(y_test)\n",
    "\n",
    "net = models.Sequential()\n",
    "net.add(layers.Dense(512, activation='relu', input_shape=(28*28,))) \n",
    "net.add(layers.Dense(512, activation='relu')) \n",
    "net.add(layers.Dense(512, activation='relu')) \n",
    "net.add(layers.Dense(10, activation='softmax')) \n",
    "net.compile(optimizer='nadam',loss='categorical_crossentropy',metrics=['acc'])\n",
    "\n",
    "# preprocessing\n",
    "X_train = X_train.reshape((60000, 28*28))\n",
    "X_train = X_train/255\n",
    "\n",
    "X_test = X_test.reshape((10000, 28*28))\n",
    "X_test = X_test/255"
   ]
  },
  {
   "cell_type": "code",
   "execution_count": 36,
   "metadata": {},
   "outputs": [
    {
     "name": "stdout",
     "output_type": "stream",
     "text": [
      "Model: \"sequential_6\"\n",
      "_________________________________________________________________\n",
      "Layer (type)                 Output Shape              Param #   \n",
      "=================================================================\n",
      "dense_23 (Dense)             (None, 512)               401920    \n",
      "_________________________________________________________________\n",
      "dense_24 (Dense)             (None, 512)               262656    \n",
      "_________________________________________________________________\n",
      "dense_25 (Dense)             (None, 512)               262656    \n",
      "_________________________________________________________________\n",
      "dense_26 (Dense)             (None, 10)                5130      \n",
      "=================================================================\n",
      "Total params: 932,362\n",
      "Trainable params: 932,362\n",
      "Non-trainable params: 0\n",
      "_________________________________________________________________\n"
     ]
    }
   ],
   "source": [
    "net.summary()"
   ]
  },
  {
   "cell_type": "code",
   "execution_count": 35,
   "metadata": {},
   "outputs": [
    {
     "name": "stdout",
     "output_type": "stream",
     "text": [
      "469/469 [==============================] - 6s 13ms/step - loss: 0.2112 - acc: 0.9370\n"
     ]
    },
    {
     "data": {
      "text/plain": [
       "<tensorflow.python.keras.callbacks.History at 0x7f9f78922310>"
      ]
     },
     "execution_count": 35,
     "metadata": {},
     "output_type": "execute_result"
    }
   ],
   "source": [
    "net.fit(X_train, y_train, epochs=1, batch_size=128)"
   ]
  },
  {
   "cell_type": "code",
   "execution_count": 9,
   "metadata": {},
   "outputs": [
    {
     "name": "stdout",
     "output_type": "stream",
     "text": [
      "313/313 [==============================] - 0s 1ms/step - loss: 0.0769 - acc: 0.9782\n"
     ]
    }
   ],
   "source": [
    "test_loss, test_acc = net.evaluate(X_test,y_test)"
   ]
  },
  {
   "cell_type": "markdown",
   "metadata": {},
   "source": [
    "* training하는 동안 정확도를 추측하기 위해 훈련데이터 중 일부를 검증 데이터로 만들어두자."
   ]
  },
  {
   "cell_type": "code",
   "execution_count": 11,
   "metadata": {},
   "outputs": [
    {
     "data": {
      "text/plain": [
       "(60000, 784)"
      ]
     },
     "execution_count": 11,
     "metadata": {},
     "output_type": "execute_result"
    }
   ],
   "source": [
    "X_train.shape"
   ]
  },
  {
   "cell_type": "code",
   "execution_count": 18,
   "metadata": {},
   "outputs": [],
   "source": [
    "X_val = X_train[:10000]\n",
    "partial_X_train = X_train[10000:]\n",
    "\n",
    "y_val = y_train[:10000]\n",
    "partial_y_train = y_train[10000:]"
   ]
  },
  {
   "cell_type": "code",
   "execution_count": 19,
   "metadata": {},
   "outputs": [
    {
     "name": "stdout",
     "output_type": "stream",
     "text": [
      "Epoch 1/20\n",
      "391/391 [==============================] - 5s 13ms/step - loss: 0.2324 - acc: 0.9310 - val_loss: 0.1151 - val_acc: 0.9656\n",
      "Epoch 2/20\n",
      "391/391 [==============================] - 5s 13ms/step - loss: 0.0809 - acc: 0.9743 - val_loss: 0.1157 - val_acc: 0.9651\n",
      "Epoch 3/20\n",
      "391/391 [==============================] - 5s 14ms/step - loss: 0.0523 - acc: 0.9831 - val_loss: 0.1052 - val_acc: 0.9691\n",
      "Epoch 4/20\n",
      "391/391 [==============================] - 5s 14ms/step - loss: 0.0362 - acc: 0.9882 - val_loss: 0.0882 - val_acc: 0.9747\n",
      "Epoch 5/20\n",
      "391/391 [==============================] - 5s 14ms/step - loss: 0.0302 - acc: 0.9903 - val_loss: 0.0856 - val_acc: 0.9761\n",
      "Epoch 6/20\n",
      "391/391 [==============================] - 6s 14ms/step - loss: 0.0264 - acc: 0.9916 - val_loss: 0.0843 - val_acc: 0.9786\n",
      "Epoch 7/20\n",
      "391/391 [==============================] - 5s 13ms/step - loss: 0.0205 - acc: 0.9932 - val_loss: 0.0884 - val_acc: 0.9777\n",
      "Epoch 8/20\n",
      "391/391 [==============================] - 5s 13ms/step - loss: 0.0224 - acc: 0.9926 - val_loss: 0.0751 - val_acc: 0.9804\n",
      "Epoch 9/20\n",
      "391/391 [==============================] - 5s 13ms/step - loss: 0.0139 - acc: 0.9956 - val_loss: 0.0914 - val_acc: 0.9782\n",
      "Epoch 10/20\n",
      "391/391 [==============================] - 5s 13ms/step - loss: 0.0188 - acc: 0.9937 - val_loss: 0.0925 - val_acc: 0.9780\n",
      "Epoch 11/20\n",
      "391/391 [==============================] - 5s 13ms/step - loss: 0.0155 - acc: 0.9953 - val_loss: 0.1035 - val_acc: 0.9776\n",
      "Epoch 12/20\n",
      "391/391 [==============================] - 5s 13ms/step - loss: 0.0148 - acc: 0.9951 - val_loss: 0.0972 - val_acc: 0.9801\n",
      "Epoch 13/20\n",
      "391/391 [==============================] - 5s 13ms/step - loss: 0.0158 - acc: 0.9949 - val_loss: 0.1058 - val_acc: 0.9770\n",
      "Epoch 14/20\n",
      "391/391 [==============================] - 6s 14ms/step - loss: 0.0145 - acc: 0.9956 - val_loss: 0.0926 - val_acc: 0.9804\n",
      "Epoch 15/20\n",
      "391/391 [==============================] - 6s 14ms/step - loss: 0.0081 - acc: 0.9973 - val_loss: 0.1123 - val_acc: 0.9783\n",
      "Epoch 16/20\n",
      "391/391 [==============================] - 5s 14ms/step - loss: 0.0120 - acc: 0.9964 - val_loss: 0.0881 - val_acc: 0.9819\n",
      "Epoch 17/20\n",
      "391/391 [==============================] - 6s 15ms/step - loss: 0.0084 - acc: 0.9973 - val_loss: 0.1043 - val_acc: 0.9804\n",
      "Epoch 18/20\n",
      "391/391 [==============================] - 5s 14ms/step - loss: 0.0126 - acc: 0.9962 - val_loss: 0.0818 - val_acc: 0.9823\n",
      "Epoch 19/20\n",
      "391/391 [==============================] - 6s 14ms/step - loss: 0.0078 - acc: 0.9975 - val_loss: 0.1226 - val_acc: 0.9787\n",
      "Epoch 20/20\n",
      "391/391 [==============================] - 6s 14ms/step - loss: 0.0091 - acc: 0.9973 - val_loss: 0.0978 - val_acc: 0.9811\n"
     ]
    }
   ],
   "source": [
    "val = net.fit(partial_X_train,partial_y_train,epochs=20, batch_size=128, validation_data=(X_val, y_val))"
   ]
  },
  {
   "cell_type": "code",
   "execution_count": 22,
   "metadata": {},
   "outputs": [],
   "source": [
    "val_dict = val.history\n",
    "loss = val_dict['loss']\n",
    "val_loss = val_dict['val_loss']"
   ]
  },
  {
   "cell_type": "code",
   "execution_count": 23,
   "metadata": {},
   "outputs": [
    {
     "data": {
      "text/plain": [
       "<matplotlib.legend.Legend at 0x7fa029bb97d0>"
      ]
     },
     "execution_count": 23,
     "metadata": {},
     "output_type": "execute_result"
    },
    {
     "data": {
      "image/png": "[encoded data removed]",
      "text/plain": [
       "<Figure size 432x288 with 1 Axes>"
      ]
     },
     "metadata": {
      "needs_background": "light"
     },
     "output_type": "display_data"
    }
   ],
   "source": [
    "x = np.arange(0,len(loss))\n",
    "plt.plot(x,loss,'bo',label='E')\n",
    "plt.plot(x,val_loss,'ro',label='$E_v$')\n",
    "plt.legend()"
   ]
  },
  {
   "cell_type": "code",
   "execution_count": 24,
   "metadata": {},
   "outputs": [
    {
     "data": {
      "text/plain": [
       "[<matplotlib.lines.Line2D at 0x7f9f68505e10>]"
      ]
     },
     "execution_count": 24,
     "metadata": {},
     "output_type": "execute_result"
    },
    {
     "data": {
      "image/png": "[encoded data removed]",
      "text/plain": [
       "<Figure size 432x288 with 1 Axes>"
      ]
     },
     "metadata": {
      "needs_background": "light"
     },
     "output_type": "display_data"
    }
   ],
   "source": [
    "acc = val_dict['acc']\n",
    "val_acc = val_dict['val_acc']\n",
    "plt.plot(x,acc,'bo',label='Accuracy')\n",
    "plt.plot(x,val_acc,'ro',label='A_v')"
   ]
  },
  {
   "cell_type": "markdown",
   "metadata": {},
   "source": [
    "## Dropout \n",
    "* \"With four parameters I can fit an elephant, and with five I can make him wiggle his trunk\", John von Neumann"
   ]
  },
  {
   "cell_type": "markdown",
   "metadata": {},
   "source": [
    "과적합(over-fitting)을 피하기 위해서는 \n",
    "0. 데이터의 수를 늘리거나\n",
    "1. 네트워크의 크기를 줄여서 학습해야하는 파라미터를 줄이거나\n",
    "2. regularization을 통해 실질적인 역할을 하는 파라미터의 수를 규제하거나 (ridge/lasso 회귀처럼)\n",
    "3. 학습하는 동안 몇 개의 노드를 꺼둔다(dropout)."
   ]
  },
  {
   "cell_type": "code",
   "execution_count": 25,
   "metadata": {},
   "outputs": [],
   "source": [
    "model = models.Sequential()\n",
    "model.add(layers.Dense(512, activation='relu', input_shape=(28*28,))) \n",
    "model.add(layers.Dropout(0.5))  \n",
    "model.add(layers.Dense(512, activation='relu')) \n",
    "model.add(layers.Dropout(0.5))  \n",
    "model.add(layers.Dense(10, activation='softmax')) \n",
    "model.compile(optimizer='nadam',loss='categorical_crossentropy',metrics=['acc'])\n"
   ]
  },
  {
   "cell_type": "code",
   "execution_count": 26,
   "metadata": {},
   "outputs": [
    {
     "name": "stdout",
     "output_type": "stream",
     "text": [
      "Epoch 1/20\n",
      "391/391 [==============================] - 4s 11ms/step - loss: 0.3769 - acc: 0.8821 - val_loss: 0.1468 - val_acc: 0.9559\n",
      "Epoch 2/20\n",
      "391/391 [==============================] - 4s 11ms/step - loss: 0.1685 - acc: 0.9494 - val_loss: 0.1107 - val_acc: 0.9670\n",
      "Epoch 3/20\n",
      "391/391 [==============================] - 4s 11ms/step - loss: 0.1291 - acc: 0.9606 - val_loss: 0.0975 - val_acc: 0.9713\n",
      "Epoch 4/20\n",
      "391/391 [==============================] - 5s 12ms/step - loss: 0.1077 - acc: 0.9659 - val_loss: 0.0851 - val_acc: 0.9750\n",
      "Epoch 5/20\n",
      "391/391 [==============================] - 5s 12ms/step - loss: 0.0985 - acc: 0.9692 - val_loss: 0.0843 - val_acc: 0.9765\n",
      "Epoch 6/20\n",
      "391/391 [==============================] - 5s 12ms/step - loss: 0.0875 - acc: 0.9721 - val_loss: 0.0689 - val_acc: 0.9804\n",
      "Epoch 7/20\n",
      "391/391 [==============================] - 5s 13ms/step - loss: 0.0784 - acc: 0.9747 - val_loss: 0.0730 - val_acc: 0.9783\n",
      "Epoch 8/20\n",
      "391/391 [==============================] - 5s 12ms/step - loss: 0.0735 - acc: 0.9766 - val_loss: 0.0678 - val_acc: 0.9813\n",
      "Epoch 9/20\n",
      "391/391 [==============================] - 5s 13ms/step - loss: 0.0697 - acc: 0.9776 - val_loss: 0.0721 - val_acc: 0.9806\n",
      "Epoch 10/20\n",
      "391/391 [==============================] - 4s 11ms/step - loss: 0.0647 - acc: 0.9796 - val_loss: 0.0720 - val_acc: 0.9796\n",
      "Epoch 11/20\n",
      "391/391 [==============================] - 5s 12ms/step - loss: 0.0593 - acc: 0.9813 - val_loss: 0.0745 - val_acc: 0.9793\n",
      "Epoch 12/20\n",
      "391/391 [==============================] - 5s 12ms/step - loss: 0.0584 - acc: 0.9809 - val_loss: 0.0742 - val_acc: 0.9813\n",
      "Epoch 13/20\n",
      "391/391 [==============================] - 4s 11ms/step - loss: 0.0545 - acc: 0.9819 - val_loss: 0.0704 - val_acc: 0.9817\n",
      "Epoch 14/20\n",
      "391/391 [==============================] - 5s 12ms/step - loss: 0.0539 - acc: 0.9829 - val_loss: 0.0714 - val_acc: 0.9810\n",
      "Epoch 15/20\n",
      "391/391 [==============================] - 5s 12ms/step - loss: 0.0495 - acc: 0.9838 - val_loss: 0.0682 - val_acc: 0.9822\n",
      "Epoch 16/20\n",
      "391/391 [==============================] - 5s 13ms/step - loss: 0.0482 - acc: 0.9848 - val_loss: 0.0669 - val_acc: 0.9836\n",
      "Epoch 17/20\n",
      "391/391 [==============================] - 5s 12ms/step - loss: 0.0444 - acc: 0.9856 - val_loss: 0.0674 - val_acc: 0.9835\n",
      "Epoch 18/20\n",
      "391/391 [==============================] - 5s 12ms/step - loss: 0.0474 - acc: 0.9843 - val_loss: 0.0732 - val_acc: 0.9827\n",
      "Epoch 19/20\n",
      "391/391 [==============================] - 5s 12ms/step - loss: 0.0484 - acc: 0.9842 - val_loss: 0.0682 - val_acc: 0.9839\n",
      "Epoch 20/20\n",
      "391/391 [==============================] - 5s 12ms/step - loss: 0.0455 - acc: 0.9856 - val_loss: 0.0649 - val_acc: 0.9836\n"
     ]
    }
   ],
   "source": [
    "val2= model.fit(partial_X_train,partial_y_train,epochs=20, batch_size=128, validation_data=(X_val, y_val))"
   ]
  },
  {
   "cell_type": "code",
   "execution_count": 27,
   "metadata": {},
   "outputs": [
    {
     "data": {
      "text/plain": [
       "<matplotlib.legend.Legend at 0x7f9f685870d0>"
      ]
     },
     "execution_count": 27,
     "metadata": {},
     "output_type": "execute_result"
    },
    {
     "data": {
      "image/png": "[encoded data removed]",
      "text/plain": [
       "<Figure size 432x288 with 1 Axes>"
      ]
     },
     "metadata": {
      "needs_background": "light"
     },
     "output_type": "display_data"
    }
   ],
   "source": [
    "val_dict = val2.history\n",
    "loss = val_dict['loss']\n",
    "val_loss = val_dict['val_loss']\n",
    "\n",
    "x = np.arange(0,len(loss))\n",
    "plt.plot(x,loss,'bo',label='E')\n",
    "plt.plot(x,val_loss,'ro',label='$E_v$')\n",
    "plt.legend()"
   ]
  },
  {
   "cell_type": "code",
   "execution_count": 28,
   "metadata": {},
   "outputs": [
    {
     "data": {
      "text/plain": [
       "[<matplotlib.lines.Line2D at 0x7f9fda3388d0>]"
      ]
     },
     "execution_count": 28,
     "metadata": {},
     "output_type": "execute_result"
    },
    {
     "data": {
      "image/png": "[encoded data removed]",
      "text/plain": [
       "<Figure size 432x288 with 1 Axes>"
      ]
     },
     "metadata": {
      "needs_background": "light"
     },
     "output_type": "display_data"
    }
   ],
   "source": [
    "acc = val_dict['acc']\n",
    "val_acc = val_dict['val_acc']\n",
    "plt.plot(x,acc,'bo',label='Accuracy')\n",
    "plt.plot(x,val_acc,'ro',label='A_v')"
   ]
  },
  {
   "cell_type": "code",
   "execution_count": 29,
   "metadata": {},
   "outputs": [
    {
     "name": "stdout",
     "output_type": "stream",
     "text": [
      "313/313 [==============================] - 0s 1ms/step - loss: 0.1010 - acc: 0.9802\n"
     ]
    }
   ],
   "source": [
    "test_loss, test_acc = net.evaluate(X_test,y_test)"
   ]
  },
  {
   "cell_type": "code",
   "execution_count": 30,
   "metadata": {},
   "outputs": [
    {
     "name": "stdout",
     "output_type": "stream",
     "text": [
      "313/313 [==============================] - 0s 1ms/step - loss: 0.0647 - acc: 0.9834\n"
     ]
    }
   ],
   "source": [
    "test_loss, test_acc = model.evaluate(X_test,y_test)"
   ]
  },
  {
   "cell_type": "markdown",
   "metadata": {},
   "source": [
    "## Summary"
   ]
  },
  {
   "cell_type": "markdown",
   "metadata": {},
   "source": [
    "다음은 일반적인 딥러닝 작업 단계입니다. 이를 고려하면서 문제를 해결하세요.\n",
    "1. 문제와 데이터에 대한 이해\n",
    "2. 명확한 목표 설정 (ex: 정확도)\n",
    "3. 검증방법 설정 \n",
    "4. 모델 설정 (layer 수, 활성화 함수, optimizer, batch size 등)\n",
    "5. dropout, layer 줄이기, 모델 사이즈 줄이기 등으로 모델을 규제하고 과소적합도 과대적합도 아닌 적정한 모델 찾기"
   ]
  },
  {
   "cell_type": "markdown",
   "metadata": {},
   "source": [
    "다음은 문제 유형에 따른 적절한 loss 함수와 출력층의 활성화 함수입니다. 참조하세요.\n",
    "\n",
    "| 문제 유형 | loss function | activation function |\n",
    "| --- | --- | --- |\n",
    "| binary classification | binary_crossentropy | sigmoid |\n",
    "| multi-class classification | categorical_crossentropy | softmax |\n",
    "| regression | MSE (mean squared error) | - |"
   ]
  },
  {
   "cell_type": "code",
   "execution_count": null,
   "metadata": {},
   "outputs": [],
   "source": []
  }
 ],
 "metadata": {
  "kernelspec": {
   "display_name": "Python 3",
   "language": "python",
   "name": "python3"
  },
  "language_info": {
   "codemirror_mode": {
    "name": "ipython",
    "version": 3
   },
   "file_extension": ".py",
   "mimetype": "text/x-python",
   "name": "python",
   "nbconvert_exporter": "python",
   "pygments_lexer": "ipython3",
   "version": "3.7.4"
  }
 },
 "nbformat": 4,
 "nbformat_minor": 2
}
