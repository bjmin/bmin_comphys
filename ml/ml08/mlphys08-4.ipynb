{
 "cells": [
  {
   "cell_type": "markdown",
   "metadata": {},
   "source": [
    "# Perceptron\n",
    "## AND \n",
    "https://en.wikipedia.org/wiki/Perceptron"
   ]
  },
  {
   "cell_type": "markdown",
   "metadata": {},
   "source": [
    "Perceptron:\n",
    "$$ y_j = f ( \\sum_i w_ix_i - b_j). $$"
   ]
  },
  {
   "cell_type": "markdown",
   "metadata": {},
   "source": [
    "$$ w_i(t+1) = w_i(t) + \\eta (t_j - y_j)x_{j,i} $$\n",
    "* eta = learning rate\n",
    "* t_j = target\n",
    "* y_j = prediction"
   ]
  },
  {
   "cell_type": "code",
   "execution_count": 199,
   "metadata": {},
   "outputs": [],
   "source": [
    "def perc(X):\n",
    "    f=bias\n",
    "    for i in range(2):\n",
    "        f = f + w[i] * X[i]\n",
    "    if f >= 0.0:\n",
    "        return 1.0\n",
    "    else:\n",
    "        return 0.0\n",
    "\n",
    "def train(X,y,l_rate,ne): # l_rate = learning rate / ne = number of epochs\n",
    "    global bias\n",
    "    for n in range(ne):\n",
    "        sum_error = 0.0\n",
    "        for sample, target in zip(X,y):\n",
    "            yp=perc(sample)\n",
    "            error = target - yp\n",
    "            bias = bias + l_rate * error * x0\n",
    "            sum_error += error**2 # 오차의 제곱\n",
    "\n",
    "            for i in range(2):\n",
    "                w[i]=w[i]+ l_rate*error*sample[i]\n",
    "    return w"
   ]
  },
  {
   "cell_type": "code",
   "execution_count": 207,
   "metadata": {},
   "outputs": [],
   "source": [
    "# data\n",
    "x0 = 1\n",
    "X = [[0,0],[0,1],[1,0],[1,1]]\n",
    "y = [0,0,0,1]\n",
    "w = [0,0]\n",
    "bias = 0.0\n",
    "l_rate = 0.1\n",
    "ne=5"
   ]
  },
  {
   "cell_type": "code",
   "execution_count": 208,
   "metadata": {},
   "outputs": [
    {
     "data": {
      "text/plain": [
       "[0.2, 0.1]"
      ]
     },
     "execution_count": 208,
     "metadata": {},
     "output_type": "execute_result"
    }
   ],
   "source": [
    "w = train(X,y,l_rate,ne)\n",
    "w"
   ]
  },
  {
   "cell_type": "markdown",
   "metadata": {},
   "source": [
    "# XOR problem"
   ]
  },
  {
   "cell_type": "code",
   "execution_count": 210,
   "metadata": {},
   "outputs": [],
   "source": [
    "X = [[0,0],[0,1],[1,0],[1,1]]\n",
    "y = [0,1,1,0]"
   ]
  },
  {
   "cell_type": "code",
   "execution_count": null,
   "metadata": {},
   "outputs": [],
   "source": []
  }
 ],
 "metadata": {
  "kernelspec": {
   "display_name": "Python 3",
   "language": "python",
   "name": "python3"
  },
  "language_info": {
   "codemirror_mode": {
    "name": "ipython",
    "version": 3
   },
   "file_extension": ".py",
   "mimetype": "text/x-python",
   "name": "python",
   "nbconvert_exporter": "python",
   "pygments_lexer": "ipython3",
   "version": "3.7.4"
  }
 },
 "nbformat": 4,
 "nbformat_minor": 2
}
