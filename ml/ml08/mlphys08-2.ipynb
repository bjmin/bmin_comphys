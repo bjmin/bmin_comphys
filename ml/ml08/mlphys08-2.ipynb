{
 "cells": [
  {
   "cell_type": "markdown",
   "metadata": {},
   "source": [
    "# Multilayer Perceptron"
   ]
  },
  {
   "cell_type": "code",
   "execution_count": 1,
   "metadata": {},
   "outputs": [],
   "source": [
    "import numpy as np\n",
    "import matplotlib.pyplot as plt"
   ]
  },
  {
   "cell_type": "code",
   "execution_count": 29,
   "metadata": {},
   "outputs": [],
   "source": [
    "# sigmoid function\n",
    "def f(x):\n",
    "    return 1/(1+np.exp(-x))\n",
    "def df(x):\n",
    "    return x*(1-x)"
   ]
  },
  {
   "cell_type": "code",
   "execution_count": 3,
   "metadata": {},
   "outputs": [],
   "source": [
    "X = np.array([[0,0,1],[0,1,1],[1,0,1],[1,1,1]])\n",
    "y = np.array([[0],[1],[1],[0]])"
   ]
  },
  {
   "cell_type": "code",
   "execution_count": 5,
   "metadata": {},
   "outputs": [],
   "source": [
    "np.random.seed(1)"
   ]
  },
  {
   "cell_type": "code",
   "execution_count": 6,
   "metadata": {},
   "outputs": [],
   "source": [
    "inputs = 3\n",
    "hiddens = 4\n",
    "outputs = 1"
   ]
  },
  {
   "cell_type": "code",
   "execution_count": 10,
   "metadata": {},
   "outputs": [],
   "source": [
    "w0 = 2*np.random.random((inputs,hiddens))-1\n",
    "w1 = 2*np.random.random((hiddens,outputs))-1"
   ]
  },
  {
   "cell_type": "code",
   "execution_count": 11,
   "metadata": {},
   "outputs": [
    {
     "data": {
      "text/plain": [
       "(array([[ 0.7527783 ,  0.78921333, -0.82991158, -0.92189043],\n",
       "        [-0.66033916,  0.75628501, -0.80330633, -0.15778475],\n",
       "        [ 0.91577906,  0.06633057,  0.38375423, -0.36896874]]),\n",
       " array([[ 0.37300186],\n",
       "        [ 0.66925134],\n",
       "        [-0.96342345],\n",
       "        [ 0.50028863]]))"
      ]
     },
     "execution_count": 11,
     "metadata": {},
     "output_type": "execute_result"
    }
   ],
   "source": [
    "w0,w1"
   ]
  },
  {
   "cell_type": "code",
   "execution_count": 22,
   "metadata": {},
   "outputs": [],
   "source": [
    "## neural networks test\n",
    "layer0 = X\n",
    "net1 = np.dot(layer0, w0)\n",
    "layer1 = f(net1) # activation function\n",
    "layer1[:,-1] = 1.0 # bias\n",
    "\n",
    "net2 = np.dot(layer1, w1)\n",
    "layer2 = f(net2)"
   ]
  },
  {
   "cell_type": "code",
   "execution_count": 23,
   "metadata": {},
   "outputs": [
    {
     "data": {
      "text/plain": [
       "array([[0.6316672 ],\n",
       "       [0.68855104],\n",
       "       [0.71254142],\n",
       "       [0.75340654]])"
      ]
     },
     "execution_count": 23,
     "metadata": {},
     "output_type": "execute_result"
    }
   ],
   "source": [
    "layer2"
   ]
  },
  {
   "cell_type": "code",
   "execution_count": 27,
   "metadata": {},
   "outputs": [
    {
     "data": {
      "text/plain": [
       "array([[ 0.6316672 ],\n",
       "       [-0.31144896],\n",
       "       [-0.28745858],\n",
       "       [ 0.75340654]])"
      ]
     },
     "execution_count": 27,
     "metadata": {},
     "output_type": "execute_result"
    }
   ],
   "source": [
    "error = layer2 - y # 오차\n",
    "error"
   ]
  },
  {
   "cell_type": "code",
   "execution_count": 31,
   "metadata": {},
   "outputs": [
    {
     "data": {
      "text/plain": [
       "array([[ 0.14696606],\n",
       "       [-0.06678976],\n",
       "       [-0.05887903],\n",
       "       [ 0.13997173]])"
      ]
     },
     "execution_count": 31,
     "metadata": {},
     "output_type": "execute_result"
    }
   ],
   "source": [
    "delta = error*df(layer2) # delta\n",
    "delta"
   ]
  },
  {
   "cell_type": "markdown",
   "metadata": {},
   "source": [
    "### backpropagation"
   ]
  },
  {
   "cell_type": "code",
   "execution_count": 33,
   "metadata": {},
   "outputs": [],
   "source": [
    "h_error = np.dot(delta,w1.T) # transpose!\n",
    "h_delta = h_error*df(layer1)"
   ]
  },
  {
   "cell_type": "code",
   "execution_count": 35,
   "metadata": {},
   "outputs": [],
   "source": [
    "eta=0.1\n",
    "w1 = w1 - eta*np.dot(layer1.T, delta)\n",
    "w0 = w0 - eta*np.dot(layer0.T, h_delta)"
   ]
  },
  {
   "cell_type": "code",
   "execution_count": null,
   "metadata": {},
   "outputs": [],
   "source": []
  }
 ],
 "metadata": {
  "kernelspec": {
   "display_name": "Python 3",
   "language": "python",
   "name": "python3"
  },
  "language_info": {
   "codemirror_mode": {
    "name": "ipython",
    "version": 3
   },
   "file_extension": ".py",
   "mimetype": "text/x-python",
   "name": "python",
   "nbconvert_exporter": "python",
   "pygments_lexer": "ipython3",
   "version": "3.7.4"
  }
 },
 "nbformat": 4,
 "nbformat_minor": 2
}
