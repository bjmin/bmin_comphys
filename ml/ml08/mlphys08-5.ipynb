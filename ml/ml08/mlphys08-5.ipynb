{
 "cells": [
  {
   "cell_type": "markdown",
   "id": "612eb681",
   "metadata": {},
   "source": [
    "XOR "
   ]
  },
  {
   "cell_type": "code",
   "execution_count": 85,
   "id": "e35b9723",
   "metadata": {},
   "outputs": [],
   "source": [
    "import numpy as np"
   ]
  },
  {
   "cell_type": "code",
   "execution_count": 86,
   "id": "670ab2db",
   "metadata": {},
   "outputs": [],
   "source": [
    "def f(x): \n",
    "    return 1/(1+np.exp(-x))\n",
    "\n",
    "inputs, hiddens, outputs = 3,4,1\n",
    "np.random.seed(1)\n",
    "w = 2*np.random.random((inputs,hiddens))-1\n",
    "omega = 2*np.random.random((hiddens,outputs))-1"
   ]
  },
  {
   "cell_type": "code",
   "execution_count": 87,
   "id": "29962850",
   "metadata": {},
   "outputs": [],
   "source": [
    "X = np.array([[0,0,1],[0,1,1],[1,0,1],[1,1,1]]) # 세번째 항은 bias \n",
    "y = np.array([[0],[1],[1],[0]])"
   ]
  },
  {
   "cell_type": "code",
   "execution_count": 88,
   "id": "ed763d9c",
   "metadata": {},
   "outputs": [],
   "source": [
    "for i in range(4):\n",
    "    neth=np.dot(X[i],w) \n",
    "    h = f(neth)\n",
    "    neto=np.dot(h,omega)\n",
    "    o = f(neto)\n"
   ]
  },
  {
   "cell_type": "code",
   "execution_count": 104,
   "id": "919c0a7d",
   "metadata": {},
   "outputs": [
    {
     "data": {
      "text/plain": [
       "array([0.00037782])"
      ]
     },
     "execution_count": 104,
     "metadata": {},
     "output_type": "execute_result"
    }
   ],
   "source": [
    "dh=[0,0,0,0]\n",
    "eta=1\n",
    "for n in range(10000):\n",
    "    E=0 # error_sum\n",
    "    for i in range(4):\n",
    "        neth=np.dot(X[i],w) \n",
    "        h = f(neth)\n",
    "        neto=np.dot(h,omega) \n",
    "        o = f(neto)\n",
    "        \n",
    "        E = E + (o-y[i])**2\n",
    "        do=(o-y[i])*f(neto)*(1-f(neto))\n",
    "        for j in range(4):\n",
    "            dh[j]=do*omega[j]*f(neth[j])*(1-f(neth[j]))\n",
    "            omega[j]=omega[j]-eta*do*h[j]\n",
    "            for k in range(3):\n",
    "                w[k][j]=w[k][j]-eta*dh[j]*X[i][k]\n",
    "E"
   ]
  },
  {
   "cell_type": "code",
   "execution_count": 105,
   "id": "1e2b87ee",
   "metadata": {},
   "outputs": [
    {
     "name": "stdout",
     "output_type": "stream",
     "text": [
      "[0.00552707]\n",
      "[0.9915459]\n",
      "[0.9897064]\n",
      "[0.01302792]\n"
     ]
    }
   ],
   "source": [
    "for i in range(4):\n",
    "    neth=np.dot(X[i],w) \n",
    "    h = f(neth)\n",
    "    neto=np.dot(h,omega)\n",
    "    o = f(neto)\n",
    "    print(o)"
   ]
  },
  {
   "cell_type": "code",
   "execution_count": null,
   "id": "8dd7db33",
   "metadata": {},
   "outputs": [],
   "source": []
  }
 ],
 "metadata": {
  "kernelspec": {
   "display_name": "Python 3",
   "language": "python",
   "name": "python3"
  },
  "language_info": {
   "codemirror_mode": {
    "name": "ipython",
    "version": 3
   },
   "file_extension": ".py",
   "mimetype": "text/x-python",
   "name": "python",
   "nbconvert_exporter": "python",
   "pygments_lexer": "ipython3",
   "version": "3.8.8"
  }
 },
 "nbformat": 4,
 "nbformat_minor": 5
}
