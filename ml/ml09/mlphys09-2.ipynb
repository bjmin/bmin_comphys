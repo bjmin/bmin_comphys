{
 "cells": [
  {
   "cell_type": "markdown",
   "metadata": {},
   "source": [
    "# MNIST"
   ]
  },
  {
   "cell_type": "code",
   "execution_count": 34,
   "metadata": {},
   "outputs": [],
   "source": [
    "from keras.datasets import mnist\n",
    "from tensorflow import keras\n",
    "from keras import models \n",
    "from keras import layers\n",
    "import numpy as np\n",
    "import matplotlib.pyplot as plt\n",
    "from keras.utils import to_categorical\n",
    "\n",
    "(X, y), (Xtest, y_test) = mnist.load_data()\n",
    "y_train=to_categorical(y)\n",
    "y_test=to_categorical(y_test)"
   ]
  },
  {
   "cell_type": "code",
   "execution_count": 55,
   "metadata": {},
   "outputs": [],
   "source": [
    "net = models.Sequential()\n",
    "net.add(layers.Dense(10, activation='softmax', input_shape=(28*28,))) # 입력(input_dim) 1개, 출력(units) 1개인 레이어를 생성\n",
    "net.compile(optimizer='sgd',loss='categorical_crossentropy',metrics=['accuracy'])"
   ]
  },
  {
   "cell_type": "code",
   "execution_count": 56,
   "metadata": {},
   "outputs": [],
   "source": [
    "# preprocessing\n",
    "X_train = X.reshape((60000, 28*28))\n",
    "X_train = X_train/255\n",
    "\n",
    "X_test = Xtest.reshape((10000, 28*28))\n",
    "X_test = X_test/255"
   ]
  },
  {
   "cell_type": "code",
   "execution_count": 58,
   "metadata": {},
   "outputs": [
    {
     "name": "stdout",
     "output_type": "stream",
     "text": [
      "Epoch 1/20\n",
      "1875/1875 [==============================] - 1s 410us/step - loss: 0.3210 - accuracy: 0.9110\n",
      "Epoch 2/20\n",
      "1875/1875 [==============================] - 1s 413us/step - loss: 0.3169 - accuracy: 0.9116\n",
      "Epoch 3/20\n",
      "1875/1875 [==============================] - 1s 408us/step - loss: 0.3133 - accuracy: 0.9134\n",
      "Epoch 4/20\n",
      "1875/1875 [==============================] - 1s 449us/step - loss: 0.3100 - accuracy: 0.9143\n",
      "Epoch 5/20\n",
      "1875/1875 [==============================] - 1s 428us/step - loss: 0.3072 - accuracy: 0.9154\n",
      "Epoch 6/20\n",
      "1875/1875 [==============================] - 1s 440us/step - loss: 0.3046 - accuracy: 0.9158\n",
      "Epoch 7/20\n",
      "1875/1875 [==============================] - 1s 450us/step - loss: 0.3024 - accuracy: 0.9161\n",
      "Epoch 8/20\n",
      "1875/1875 [==============================] - 1s 450us/step - loss: 0.3003 - accuracy: 0.9162\n",
      "Epoch 9/20\n",
      "1875/1875 [==============================] - 1s 447us/step - loss: 0.2983 - accuracy: 0.9171\n",
      "Epoch 10/20\n",
      "1875/1875 [==============================] - 1s 463us/step - loss: 0.2965 - accuracy: 0.9175\n",
      "Epoch 11/20\n",
      "1875/1875 [==============================] - 1s 483us/step - loss: 0.2949 - accuracy: 0.9176\n",
      "Epoch 12/20\n",
      "1875/1875 [==============================] - 1s 492us/step - loss: 0.2932 - accuracy: 0.9183\n",
      "Epoch 13/20\n",
      "1875/1875 [==============================] - 1s 501us/step - loss: 0.2919 - accuracy: 0.9184\n",
      "Epoch 14/20\n",
      "1875/1875 [==============================] - 1s 486us/step - loss: 0.2906 - accuracy: 0.9189\n",
      "Epoch 15/20\n",
      "1875/1875 [==============================] - 1s 480us/step - loss: 0.2894 - accuracy: 0.9194\n",
      "Epoch 16/20\n",
      "1875/1875 [==============================] - 1s 499us/step - loss: 0.2881 - accuracy: 0.9197\n",
      "Epoch 17/20\n",
      "1875/1875 [==============================] - 1s 476us/step - loss: 0.2871 - accuracy: 0.9199\n",
      "Epoch 18/20\n",
      "1875/1875 [==============================] - 1s 475us/step - loss: 0.2861 - accuracy: 0.9201\n",
      "Epoch 19/20\n",
      "1875/1875 [==============================] - 1s 493us/step - loss: 0.2851 - accuracy: 0.9207\n",
      "Epoch 20/20\n",
      "1875/1875 [==============================] - 1s 478us/step - loss: 0.2841 - accuracy: 0.9205\n"
     ]
    },
    {
     "data": {
      "text/plain": [
       "<tensorflow.python.keras.callbacks.History at 0x7f9fd1a7e150>"
      ]
     },
     "execution_count": 58,
     "metadata": {},
     "output_type": "execute_result"
    }
   ],
   "source": [
    "net.fit(X_train, y_train, epochs=20)"
   ]
  },
  {
   "cell_type": "code",
   "execution_count": 50,
   "metadata": {},
   "outputs": [
    {
     "data": {
      "text/plain": [
       "<matplotlib.image.AxesImage at 0x7f9f701e1b50>"
      ]
     },
     "execution_count": 50,
     "metadata": {},
     "output_type": "execute_result"
    },
    {
     "data": {
      "image/png": "[encoded data removed]",
      "text/plain": [
       "<Figure size 432x288 with 1 Axes>"
      ]
     },
     "metadata": {
      "needs_background": "light"
     },
     "output_type": "display_data"
    }
   ],
   "source": [
    "plt.imshow(Xtest[9])"
   ]
  },
  {
   "cell_type": "code",
   "execution_count": 51,
   "metadata": {},
   "outputs": [
    {
     "data": {
      "text/plain": [
       "9"
      ]
     },
     "execution_count": 51,
     "metadata": {},
     "output_type": "execute_result"
    }
   ],
   "source": [
    "np.argmax(net.predict(X_test)[9])"
   ]
  },
  {
   "cell_type": "code",
   "execution_count": 48,
   "metadata": {},
   "outputs": [
    {
     "data": {
      "text/plain": [
       "array([0., 0., 0., 0., 0., 1., 0., 0., 0., 0.], dtype=float32)"
      ]
     },
     "execution_count": 48,
     "metadata": {},
     "output_type": "execute_result"
    }
   ],
   "source": [
    "y_test[8]"
   ]
  },
  {
   "cell_type": "code",
   "execution_count": 59,
   "metadata": {},
   "outputs": [
    {
     "name": "stdout",
     "output_type": "stream",
     "text": [
      "313/313 [==============================] - 0s 434us/step - loss: 0.2802 - accuracy: 0.9213\n"
     ]
    },
    {
     "data": {
      "text/plain": [
       "[0.2801572382450104, 0.9212999939918518]"
      ]
     },
     "execution_count": 59,
     "metadata": {},
     "output_type": "execute_result"
    }
   ],
   "source": [
    "net.evaluate(X_test,y_test)"
   ]
  },
  {
   "cell_type": "code",
   "execution_count": null,
   "metadata": {},
   "outputs": [],
   "source": []
  }
 ],
 "metadata": {
  "kernelspec": {
   "display_name": "Python 3",
   "language": "python",
   "name": "python3"
  },
  "language_info": {
   "codemirror_mode": {
    "name": "ipython",
    "version": 3
   },
   "file_extension": ".py",
   "mimetype": "text/x-python",
   "name": "python",
   "nbconvert_exporter": "python",
   "pygments_lexer": "ipython3",
   "version": "3.7.4"
  }
 },
 "nbformat": 4,
 "nbformat_minor": 2
}
