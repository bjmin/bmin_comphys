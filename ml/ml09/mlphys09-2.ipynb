{
 "cells": [
  {
   "cell_type": "markdown",
   "metadata": {},
   "source": [
    "# iris"
   ]
  },
  {
   "cell_type": "code",
   "execution_count": 9,
   "metadata": {},
   "outputs": [
    {
     "data": {
      "text/plain": [
       "['sepal length (cm)',\n",
       " 'sepal width (cm)',\n",
       " 'petal length (cm)',\n",
       " 'petal width (cm)']"
      ]
     },
     "execution_count": 9,
     "metadata": {},
     "output_type": "execute_result"
    }
   ],
   "source": [
    "import numpy as np\n",
    "import matplotlib.pyplot as plt\n",
    "from sklearn import datasets\n",
    "iris = datasets.load_iris() # 분꽃\n",
    "iris.target_names # 3종류의 분꽃 분류하기\n",
    "iris.feature_names # features"
   ]
  },
  {
   "cell_type": "code",
   "execution_count": 10,
   "metadata": {},
   "outputs": [],
   "source": [
    "X=iris.data # input data # the number of input nodes = 4\n",
    "y=iris.target"
   ]
  },
  {
   "cell_type": "code",
   "execution_count": 11,
   "metadata": {},
   "outputs": [],
   "source": [
    "import torch\n",
    "from sklearn.model_selection import train_test_split\n",
    "\n",
    "#y=torch.nn.functional.one_hot(yt)\n",
    "X_train, X_test, y_train, y_test = train_test_split(X,y,test_size=0.20)\n",
    "\n",
    "# array -> tensor\n",
    "X_train = torch.Tensor(X_train)\n",
    "X_test = torch.Tensor(X_test)\n",
    "y_train = torch.LongTensor(y_train)  \n",
    "y_test = torch.LongTensor(y_test)"
   ]
  },
  {
   "cell_type": "code",
   "execution_count": 12,
   "metadata": {},
   "outputs": [],
   "source": [
    "# model\n",
    "din, dh, dout = 4,20,3\n",
    "model = torch.nn.Sequential(\n",
    "    torch.nn.Linear(din,dh), # input - hidden\n",
    "    torch.nn.ReLU(),         # activation function of hidden layer \n",
    "    torch.nn.Linear(dh,dout), # hidden - out\n",
    "    torch.nn.Softmax(dim=1)\n",
    ")\n",
    "\n",
    "# loss and optimizer\n",
    "learning_rate = 0.01\n",
    "criterion = torch.nn.CrossEntropyLoss()\n",
    "optimizer = torch.optim.Adam(model.parameters(),lr=learning_rate)"
   ]
  },
  {
   "cell_type": "code",
   "execution_count": 13,
   "metadata": {},
   "outputs": [
    {
     "name": "stdout",
     "output_type": "stream",
     "text": [
      "0 1.0935932397842407\n",
      "1000 0.5698725581169128\n",
      "2000 0.5650053024291992\n",
      "3000 0.5623323321342468\n",
      "4000 0.5611050128936768\n",
      "5000 0.560563325881958\n",
      "6000 0.5602334141731262\n",
      "7000 0.5600377917289734\n",
      "8000 0.576444685459137\n",
      "9000 0.5764446258544922\n"
     ]
    }
   ],
   "source": [
    "# learning\n",
    "for epoch in range(10000):\n",
    "    y_pred = model(X_train)\n",
    "    loss = criterion(y_pred,y_train)\n",
    "    optimizer.zero_grad() # zero_grad(): 미분값 초기화\n",
    "    loss.backward() # backpropagation\n",
    "    optimizer.step() # update weights and biases\n",
    "    if(epoch%1000==0):\n",
    "        print(epoch, loss.item())"
   ]
  },
  {
   "cell_type": "code",
   "execution_count": 14,
   "metadata": {},
   "outputs": [
    {
     "data": {
      "text/plain": [
       "tensor([0, 2, 2, 1, 1, 0, 2, 2, 1, 1, 0, 2, 1, 0, 0, 2, 0, 2, 1, 2, 2, 2, 2, 1,\n",
       "        0, 1, 2, 0, 2, 0, 2, 1, 0, 2, 2, 2, 1, 2, 1, 1, 1, 2, 0, 2, 0, 1, 2, 2,\n",
       "        0, 1, 0, 2, 2, 2, 2, 0, 0, 1, 1, 1, 0, 0, 0, 0, 2, 0, 2, 2, 0, 2, 2, 0,\n",
       "        0, 1, 0, 0, 0, 1, 2, 0, 0, 1, 1, 1, 2, 0, 2, 0, 1, 1, 1, 2, 2, 1, 2, 1,\n",
       "        2, 1, 0, 2, 0, 1, 1, 1, 2, 0, 1, 2, 1, 2, 1, 1, 0, 2, 1, 0, 0, 1, 1, 2])"
      ]
     },
     "execution_count": 14,
     "metadata": {},
     "output_type": "execute_result"
    }
   ],
   "source": [
    "prediction = y_pred.max(1)[1] # max indices\n",
    "prediction"
   ]
  },
  {
   "cell_type": "code",
   "execution_count": 15,
   "metadata": {},
   "outputs": [
    {
     "data": {
      "text/plain": [
       "tensor([0, 2, 2, 1, 1, 0, 1, 2, 1, 1, 0, 2, 1, 0, 0, 1, 0, 2, 1, 2, 2, 2, 2, 1,\n",
       "        0, 1, 2, 0, 2, 0, 1, 1, 0, 2, 2, 2, 1, 2, 1, 1, 1, 2, 0, 2, 0, 1, 2, 2,\n",
       "        0, 1, 0, 2, 2, 2, 2, 0, 0, 1, 1, 1, 0, 0, 0, 0, 2, 0, 2, 2, 0, 2, 2, 0,\n",
       "        0, 1, 0, 0, 0, 1, 2, 0, 0, 1, 1, 1, 2, 0, 2, 0, 1, 1, 1, 2, 2, 1, 2, 1,\n",
       "        2, 1, 0, 2, 0, 1, 1, 1, 2, 0, 1, 2, 1, 2, 1, 1, 0, 2, 1, 0, 0, 1, 1, 2])"
      ]
     },
     "execution_count": 15,
     "metadata": {},
     "output_type": "execute_result"
    }
   ],
   "source": [
    "y_train"
   ]
  },
  {
   "cell_type": "code",
   "execution_count": 20,
   "metadata": {},
   "outputs": [
    {
     "data": {
      "text/plain": [
       "tensor(0.9750)"
      ]
     },
     "execution_count": 20,
     "metadata": {},
     "output_type": "execute_result"
    }
   ],
   "source": [
    "corrects = (prediction == y_train)\n",
    "accuracy = corrects.sum().float() / float( y_train.size(0) )\n",
    "accuracy"
   ]
  },
  {
   "cell_type": "code",
   "execution_count": 17,
   "metadata": {},
   "outputs": [
    {
     "data": {
      "text/plain": [
       "<matplotlib.collections.PathCollection at 0x7f9db03e4c90>"
      ]
     },
     "execution_count": 17,
     "metadata": {},
     "output_type": "execute_result"
    },
    {
     "data": {
      "image/png": "[encoded data removed]",
      "text/plain": [
       "<Figure size 432x288 with 1 Axes>"
      ]
     },
     "metadata": {
      "needs_background": "light"
     },
     "output_type": "display_data"
    }
   ],
   "source": [
    "plt.scatter(X_train[:,2],X_train[:,3],c=y_train)"
   ]
  },
  {
   "cell_type": "code",
   "execution_count": 18,
   "metadata": {},
   "outputs": [
    {
     "data": {
      "text/plain": [
       "<matplotlib.collections.PathCollection at 0x7f9db04469d0>"
      ]
     },
     "execution_count": 18,
     "metadata": {},
     "output_type": "execute_result"
    },
    {
     "data": {
      "image/png": "[encoded data removed]",
      "text/plain": [
       "<Figure size 432x288 with 1 Axes>"
      ]
     },
     "metadata": {
      "needs_background": "light"
     },
     "output_type": "display_data"
    }
   ],
   "source": [
    "plt.scatter(X_train[:,2],X_train[:,3],c=prediction)"
   ]
  },
  {
   "cell_type": "code",
   "execution_count": null,
   "metadata": {},
   "outputs": [],
   "source": []
  },
  {
   "cell_type": "code",
   "execution_count": null,
   "metadata": {},
   "outputs": [],
   "source": []
  }
 ],
 "metadata": {
  "kernelspec": {
   "display_name": "Python 3",
   "language": "python",
   "name": "python3"
  },
  "language_info": {
   "codemirror_mode": {
    "name": "ipython",
    "version": 3
   },
   "file_extension": ".py",
   "mimetype": "text/x-python",
   "name": "python",
   "nbconvert_exporter": "python",
   "pygments_lexer": "ipython3",
   "version": "3.7.4"
  }
 },
 "nbformat": 4,
 "nbformat_minor": 2
}
