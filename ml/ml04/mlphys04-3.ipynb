{
 "cells": [
  {
   "cell_type": "markdown",
   "metadata": {},
   "source": [
    "# Decision Tree"
   ]
  },
  {
   "cell_type": "code",
   "execution_count": 2,
   "metadata": {},
   "outputs": [
    {
     "data": {
      "text/plain": [
       "<matplotlib.lines.Line2D at 0x7fd9d869edd0>"
      ]
     },
     "execution_count": 2,
     "metadata": {},
     "output_type": "execute_result"
    },
    {
     "data": {
      "image/png": "[encoded data removed]",
      "text/plain": [
       "<Figure size 432x288 with 1 Axes>"
      ]
     },
     "metadata": {
      "needs_background": "light"
     },
     "output_type": "display_data"
    }
   ],
   "source": [
    "import numpy as np\n",
    "import matplotlib.pyplot as plt\n",
    "\n",
    "exam=[90,86,72,80,57,68,64,75,62]\n",
    "grade=[1,1,1,1,0,0,0,0,0]\n",
    "\n",
    "plt.plot(exam,[i if i==1 else None for i in grade],'rs')\n",
    "plt.plot(exam,[i if i==0 else None for i in grade],'bo')\n",
    "plt.axvline(x=77)\n",
    "plt.axvline(x=74)\n",
    "plt.axvline(x=70)"
   ]
  },
  {
   "cell_type": "markdown",
   "metadata": {},
   "source": [
    "* 나무 구조로 데이터를 분류"
   ]
  },
  {
   "cell_type": "markdown",
   "metadata": {},
   "source": [
    "### 어떤 질문을 해야할까? Gini Coefficient and Entropy\n",
    "$$ \\text{Gini}: G=1-\\sum_i p_i^2 $$\n",
    "$$ \\text{Entropy}: \\quad S=- \\sum_i p_i \\log p_i $$\n"
   ]
  },
  {
   "cell_type": "code",
   "execution_count": 3,
   "metadata": {},
   "outputs": [
    {
     "data": {
      "text/plain": [
       "<matplotlib.lines.Line2D at 0x7fd9985c1c10>"
      ]
     },
     "execution_count": 3,
     "metadata": {},
     "output_type": "execute_result"
    },
    {
     "data": {
      "image/png": "[encoded data removed]",
      "text/plain": [
       "<Figure size 432x288 with 1 Axes>"
      ]
     },
     "metadata": {
      "needs_background": "light"
     },
     "output_type": "display_data"
    }
   ],
   "source": [
    "plt.plot(exam,[i if i==1 else None for i in grade],'rs')\n",
    "plt.plot(exam,[i if i==0 else None for i in grade],'go')\n",
    "plt.axvline(x=60,color='b')\n",
    "plt.axvline(x=70,color='k')"
   ]
  },
  {
   "cell_type": "markdown",
   "metadata": {},
   "source": [
    "$$\n",
    "\\begin{align} \n",
    "S_o &= - \\frac{5}{9} \\log \\frac{5}{9}  -\\frac{4}{9} \\log \\frac{4}{9}, \\\\ \n",
    "S_{blue} & = - \\frac{1}{9} [ 1\\log{1} + 0 ] -\\frac{8}{9} [\\frac{4}{8} \\log \\frac{4}{8}+\\frac{4}{8} \\log \\frac{4}{8}],\\\\ \n",
    "S_{black} & = -\\frac{4}{9} [ 1\\log{1} + 0 ] -\\frac{5}{9} [\\frac{4}{5} \\log \\frac{4}{5}+\\frac{1}{5} \\log \\frac{1}{5}].\n",
    "\\end{align}\n",
    "$$"
   ]
  },
  {
   "cell_type": "code",
   "execution_count": 4,
   "metadata": {},
   "outputs": [
    {
     "data": {
      "text/plain": [
       "(0.07083074943292755, 0.4645604994692399)"
      ]
     },
     "execution_count": 4,
     "metadata": {},
     "output_type": "execute_result"
    }
   ],
   "source": [
    "so=-(5/9)*np.log(5/9)-(4/9)*np.log(4/9);\n",
    "sb=-(1/9)*0-(8/9)*((4/8)*np.log(4/8)+(4/8)*np.log(4/8))\n",
    "sk=-(4/9)*0-(4/9)*((4/5)*np.log(4/5)+(1/5)*np.log(1/5))\n",
    "so-sb, so-sk"
   ]
  },
  {
   "cell_type": "markdown",
   "metadata": {},
   "source": [
    "$$ \\begin{align}\n",
    "G_0 &= 1-\\left( \\frac{4}{9} \\right)^2 - \\left( \\frac{5}{9} \\right)^2, \\\\ \n",
    "G_b &= \\frac{1}{9} \\left[1- \\left( \\frac{1}{1} \\right)^2 +\\left(\\frac{0}{1} \\right)^2 \\right] \n",
    "+\\frac{8}{9} \\left[1- \\left( \\frac{4}{8} \\right)^2 +\\left(\\frac{4}{8} \\right)^2 \\right], \\\\\n",
    "G_k &=\\frac{4}{9} \\left[1- \\left( \\frac{4}{4} \\right)^2 +\\left(\\frac{0}{4} \\right)^2 \\right] \n",
    "+\\frac{5}{9} \\left[1- \\left( \\frac{4}{5} \\right)^2 +\\left(\\frac{1}{5} \\right)^2 \\right].\n",
    "\\end{align}\n",
    "$$"
   ]
  },
  {
   "cell_type": "markdown",
   "metadata": {},
   "source": [
    "### Iris data"
   ]
  },
  {
   "cell_type": "code",
   "execution_count": 5,
   "metadata": {},
   "outputs": [],
   "source": [
    "import numpy as np\n",
    "import matplotlib.pyplot as plt\n",
    "from sklearn import datasets\n",
    "from sklearn import tree\n",
    "iris = datasets.load_iris() # 분꽃"
   ]
  },
  {
   "cell_type": "code",
   "execution_count": 6,
   "metadata": {},
   "outputs": [],
   "source": [
    "X=iris.data\n",
    "y=iris.target\n",
    "clf=tree.DecisionTreeClassifier(max_depth=3)"
   ]
  },
  {
   "cell_type": "code",
   "execution_count": 7,
   "metadata": {},
   "outputs": [
    {
     "data": {
      "text/plain": [
       "DecisionTreeClassifier(max_depth=3)"
      ]
     },
     "execution_count": 7,
     "metadata": {},
     "output_type": "execute_result"
    }
   ],
   "source": [
    "clf.fit(X,y)"
   ]
  },
  {
   "cell_type": "code",
   "execution_count": 8,
   "metadata": {},
   "outputs": [
    {
     "data": {
      "text/plain": [
       "0.9733333333333334"
      ]
     },
     "execution_count": 8,
     "metadata": {},
     "output_type": "execute_result"
    }
   ],
   "source": [
    "clf.score(X,y)"
   ]
  },
  {
   "cell_type": "code",
   "execution_count": null,
   "metadata": {},
   "outputs": [],
   "source": []
  },
  {
   "cell_type": "markdown",
   "metadata": {},
   "source": [
    "* Overfitting에 주의하세요! (max_depth)"
   ]
  },
  {
   "cell_type": "code",
   "execution_count": null,
   "metadata": {},
   "outputs": [],
   "source": []
  }
 ],
 "metadata": {
  "kernelspec": {
   "display_name": "Python 3",
   "language": "python",
   "name": "python3"
  },
  "language_info": {
   "codemirror_mode": {
    "name": "ipython",
    "version": 3
   },
   "file_extension": ".py",
   "mimetype": "text/x-python",
   "name": "python",
   "nbconvert_exporter": "python",
   "pygments_lexer": "ipython3",
   "version": "3.7.4"
  }
 },
 "nbformat": 4,
 "nbformat_minor": 2
}
