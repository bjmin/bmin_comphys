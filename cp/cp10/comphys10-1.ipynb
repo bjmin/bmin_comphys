{
 "cells": [
  {
   "cell_type": "markdown",
   "metadata": {},
   "source": [
    "# Curve fitting"
   ]
  },
  {
   "cell_type": "code",
   "execution_count": 1,
   "metadata": {},
   "outputs": [
    {
     "data": {
      "image/png": "[encoded data removed]",
      "text/plain": [
       "<Figure size 432x288 with 1 Axes>"
      ]
     },
     "metadata": {
      "needs_background": "light"
     },
     "output_type": "display_data"
    }
   ],
   "source": [
    "%matplotlib inline\n",
    "import matplotlib.pyplot as plt\n",
    "import numpy as np\n",
    "\n",
    "data = np.array([[1.,2.,3.,4.,5.],[3.6,5.8,5.3,8.3,9.8]])\n",
    "plt.plot(data[0],data[1],'o',label='data');\n",
    "plt.legend();"
   ]
  },
  {
   "cell_type": "code",
   "execution_count": 2,
   "metadata": {},
   "outputs": [
    {
     "data": {
      "image/png": "[encoded data removed]",
      "text/plain": [
       "<Figure size 432x288 with 1 Axes>"
      ]
     },
     "metadata": {
      "needs_background": "light"
     },
     "output_type": "display_data"
    }
   ],
   "source": [
    "plt.plot(data[0],data[1],'o',label='exp');\n",
    "plt.xlim(0,6);plt.ylim(0,12);plt.xlabel('x');plt.ylabel('y')\n",
    "\n",
    "x=np.arange(0,10,0.1)\n",
    "a=2;b=1\n",
    "y=a*x+b\n",
    "plt.plot(x,y,'k-',label='fitted line');\n",
    "plt.legend();"
   ]
  },
  {
   "cell_type": "markdown",
   "metadata": {},
   "source": [
    "# Least squares method"
   ]
  },
  {
   "cell_type": "markdown",
   "metadata": {},
   "source": [
    "최소제곱법(least squares method)은 실험이나 관측을 통해 주어진 데이터로부터 패턴을 예측하는 간단하며 효과적인 방법입니다. 위의 예시처럼 데이터가 주어져 있고 이를 통해 x와 y 사이에 선형 관계를 추측하는 과정을 살펴봅시다. x와 y가 선형 관계를 가지고 있다고 가정하면  \n",
    "\\begin{equation}\n",
    "y=ax + b\n",
    "\\end{equation}\n",
    "\n",
    "우리가 해야하는 일은 데이터로부터 $a,b$ 값을 얻는 것입니다. 방정식과 데이터 사이에 오차가 가장 작게 만드는 $a,b$가 최적의 값이라고 하면 결국 이 문제는 다음의 값을 최소화하는 문제가 됩니다.  \n",
    "\\begin{equation}\n",
    "\\chi = \\sum_i (y_i - a x_i +b)^2 \n",
    "\\end{equation}\n",
    "$\\chi$가 최소값이 되려면 극값이어야 하므로 다음의 조건을 만족해야 합니다.\n",
    "\\begin{equation}\n",
    "\\frac{\\partial \\chi}{\\partial a} =\\frac{\\partial \\chi}{\\partial b}=0. \n",
    "\\end{equation}\n",
    "따라서 아래의 두 식을 얻을 수 있습니다.\n",
    "\\begin{equation}\n",
    "\\sum_i (2a x_i^2 -2 x_i y_i + 2 b x_i) =0, \\\\  \n",
    "\\sum_i (2b - 2 y_i + 2a x_i)=0.  \n",
    "\\end{equation}\n",
    "식을 간단히 하게 위해 양변을 $N$으로 나누고 평균값들을 다음처럼 정의합니다.\n",
    "\\begin{equation}\n",
    "\\frac{1}{N}\\sum_i x_i = \\langle X \\rangle, \\quad\n",
    "\\frac{1}{N}\\sum_i x_i^2 = \\langle X^2 \\rangle, \\quad\n",
    "\\frac{1}{N}\\sum_i y_i = \\langle Y \\rangle, \\quad\n",
    "\\frac{1}{N}\\sum_i x_i y_i = \\langle XY \\rangle. \n",
    "\\end{equation}\n",
    "따라서 우리가 풀어야 하는 연립방정식은\n",
    "\\begin{equation}\n",
    "a \\langle X \\rangle + b = \\langle Y \\rangle, \\\\\n",
    "a \\langle X^2 \\rangle + b \\langle X \\rangle = \\langle XY \\rangle,\n",
    "\\end{equation}\n",
    "이 된다.\n",
    "최종적으로 최소제곱법으로 구한 기울기와 y절편은 다음과 같다.\n",
    "\\begin{equation}\n",
    "a=\\frac{\\langle XY \\rangle - \\langle X \\rangle \\langle Y \\rangle}{\\langle X^2 \\rangle - \\langle X\\rangle^2}, \\quad\n",
    "b=\\frac{\\langle X^2 \\rangle \\langle Y\\rangle - \\langle X \\rangle \\langle X Y \\rangle}{\\langle X^2 \\rangle - \\langle X\\rangle^2}\n",
    "\\end{equation}\n"
   ]
  },
  {
   "cell_type": "code",
   "execution_count": 8,
   "metadata": {},
   "outputs": [
    {
     "data": {
      "text/plain": [
       "(1.4900000000000002, 2.0899999999999963)"
      ]
     },
     "execution_count": 8,
     "metadata": {},
     "output_type": "execute_result"
    }
   ],
   "source": [
    "# 위에서 주어진 데이터에 대해서 a, b를 구해보자.\n",
    "data = np.array([[1.,2.,3.,4.,5.],[3.6,5.8,5.3,8.3,9.8]])\n",
    "xdata = data[0]\n",
    "ydata = data[1]\n",
    "\n",
    "N=len(xdata)\n",
    "X=sum(xdata)/N\n",
    "Y=sum(ydata)/N\n",
    "X2=sum([i**2 for i in xdata])/N\n",
    "XY=sum(xdata*ydata)/N\n",
    "\n",
    "a2,b2=(XY-X*Y)/(X2-X*X),(X2*Y-X*XY)/(X2-X*X)\n",
    "a2,b2"
   ]
  },
  {
   "cell_type": "code",
   "execution_count": 9,
   "metadata": {},
   "outputs": [
    {
     "data": {
      "image/png": "[encoded data removed]",
      "text/plain": [
       "<Figure size 432x288 with 1 Axes>"
      ]
     },
     "metadata": {
      "needs_background": "light"
     },
     "output_type": "display_data"
    }
   ],
   "source": [
    "plt.plot(data[0],data[1],'o',label='exp');\n",
    "plt.xlim(0,6);plt.ylim(0,12);plt.xlabel('x');plt.ylabel('y')\n",
    "\n",
    "x=np.arange(0,10,0.1)\n",
    "y=a2*x+b2\n",
    "plt.plot(x,y,'k-',label='fitted line');\n",
    "plt.legend();"
   ]
  },
  {
   "cell_type": "markdown",
   "metadata": {},
   "source": [
    "# Optimize.curve_fit"
   ]
  },
  {
   "cell_type": "markdown",
   "metadata": {},
   "source": [
    "* 'curve_fit'  \n",
    "curve_fit(model function, xdata, ydata)  \n",
    "returns: optimal values for the parameters, covariance (standard deviation)\n",
    "\n",
    "* https://en.wikipedia.org/wiki/Non-linear_least_squares"
   ]
  },
  {
   "cell_type": "code",
   "execution_count": 13,
   "metadata": {},
   "outputs": [],
   "source": [
    "import scipy.optimize\n",
    "\n",
    "# again let us test the 'data'\n",
    "data = np.array([[1.,2.,3.,4.,5.],[3.6,5.8,5.3,8.3,9.8]])\n",
    "xdata = data[0]\n",
    "ydata = data[1]\n",
    "\n",
    "def func1(x,a,b):\n",
    "    return a*x+b\n",
    "popt1, pcov1 = scipy.optimize.curve_fit(func1,xdata,ydata)"
   ]
  },
  {
   "cell_type": "code",
   "execution_count": 17,
   "metadata": {},
   "outputs": [
    {
     "data": {
      "text/plain": [
       "array([[ 0.07503334, -0.2251    ],\n",
       "       [-0.2251    ,  0.82536667]])"
      ]
     },
     "execution_count": 17,
     "metadata": {},
     "output_type": "execute_result"
    }
   ],
   "source": [
    "pcov1"
   ]
  },
  {
   "cell_type": "code",
   "execution_count": 21,
   "metadata": {},
   "outputs": [
    {
     "data": {
      "image/png": "[encoded data removed]",
      "text/plain": [
       "<Figure size 432x288 with 1 Axes>"
      ]
     },
     "metadata": {
      "needs_background": "light"
     },
     "output_type": "display_data"
    }
   ],
   "source": [
    "plt.plot(data[0],data[1],'o',label='exp');\n",
    "\n",
    "plt.plot(xdata,func1(xdata, *popt1), 'k-',label='fitted line');\n",
    "plt.legend();"
   ]
  },
  {
   "cell_type": "code",
   "execution_count": null,
   "metadata": {},
   "outputs": [],
   "source": []
  }
 ],
 "metadata": {
  "kernelspec": {
   "display_name": "Python 3",
   "language": "python",
   "name": "python3"
  },
  "language_info": {
   "codemirror_mode": {
    "name": "ipython",
    "version": 3
   },
   "file_extension": ".py",
   "mimetype": "text/x-python",
   "name": "python",
   "nbconvert_exporter": "python",
   "pygments_lexer": "ipython3",
   "version": "3.7.4"
  }
 },
 "nbformat": 4,
 "nbformat_minor": 2
}
