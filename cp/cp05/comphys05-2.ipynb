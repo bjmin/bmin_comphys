{
 "cells": [
  {
   "cell_type": "markdown",
   "metadata": {},
   "source": [
    "# 선형방정식\n",
    "* 하나의 1차방정식 : 초등, 중학교 수학교과서를 참조하여 스스로 푼다.\n",
    "* 연립방정식 : 가우스 소거법(Gaussian elimination)\n",
    "* LU decomposition: numpy.linalg.solve"
   ]
  },
  {
   "cell_type": "markdown",
   "metadata": {},
   "source": [
    "* Solve  \n",
    "$\\begin{eqnarray}\n",
    "w+3x-4y+2z=0 \\\\\n",
    "4x-2y+z=6 \\\\\n",
    "2w-x+3y-z=5 \\\\\n",
    "w+x+y+z=10\n",
    "\\end{eqnarray}$"
   ]
  },
  {
   "cell_type": "markdown",
   "metadata": {},
   "source": [
    "위의 연립방정식은 다음처럼 행렬로 표시할 수 있다.  \n",
    "$$\\begin{pmatrix}\n",
    "1 & 3 & -5 & 2 \\\\\n",
    "0 & 4 & -2 & 1 \\\\\n",
    "2 & -1 & 3 & -1 \\\\\n",
    "1 & 1 & 1 & 1 \n",
    "\\end{pmatrix}\n",
    "\\begin{pmatrix}\n",
    "w \\\\\n",
    "x \\\\\n",
    "y \\\\\n",
    "z \n",
    "\\end{pmatrix}=\n",
    "\\begin{pmatrix}\n",
    "0 \\\\\n",
    "6 \\\\\n",
    "5 \\\\\n",
    "10\n",
    "\\end{pmatrix}$$\n",
    "간단히 다음처럼 쓰기로 하자.  \n",
    "$$\\begin{align}\n",
    "A x = b\n",
    "\\end{align}$$  \n",
    "여기에서 $A$는 행렬, $x$, $b$는 벡터이다.\n",
    "이 식에서 $x$를 구하면 위의 연립방정식을 푸는 것과 동일하다. 이 식의 해는 $A$의 역행렬을 이용하면 형식적으로 표기할 수 있다.  \n",
    "$$\\begin{align}\n",
    "x = A^{-1} b\n",
    "\\end{align}$$"
   ]
  },
  {
   "cell_type": "code",
   "execution_count": 10,
   "metadata": {},
   "outputs": [
    {
     "data": {
      "text/plain": [
       "array([1., 2., 3., 4.])"
      ]
     },
     "execution_count": 10,
     "metadata": {},
     "output_type": "execute_result"
    }
   ],
   "source": [
    "import numpy as np\n",
    "A=np.array([[1,3,-5,2],[0,4,-2,1],[2,-1,3,-1],[1,1,1,1]])\n",
    "b=np.array([0,6,5,10])\n",
    "x=np.dot(np.linalg.inv(A),b)\n",
    "x"
   ]
  },
  {
   "cell_type": "code",
   "execution_count": null,
   "metadata": {},
   "outputs": [],
   "source": []
  },
  {
   "cell_type": "markdown",
   "metadata": {},
   "source": [
    "### LU decomposition\n",
    "#### 만약 x를 구하는 것이 목적이라면 역행렬을 구하는 대신 가우스 소거법 혹은 LU decomposition을 쓰는 것이 좋다.\n",
    "4 $\\times$ 4 행렬 $A$가 있다.  \n",
    "$$A=\\begin{pmatrix}\n",
    "a_{11} & a_{12} & a_{13} & a_{14} \\\\\n",
    "a_{21} & a_{22} & a_{23} & a_{24} \\\\\n",
    "a_{31} & a_{32} & a_{33} & a_{34} \\\\\n",
    "a_{41} & a_{42} & a_{43} & a_{44} \n",
    "\\end{pmatrix}$$  \n",
    "이 행렬은 다음의 방정식을 만족한다.  \n",
    "$$\\begin{equation} Ax=b \\end{equation}$$\n",
    "\n",
    "$A$를 두개의 삼각행렬의 곱($LU$)으로 나누어 쓸 수 있다고 하자. $L$은 lower matrix, $U$는 upper matrix라고 부르자. 이 행렬은 다음의 방정식을 만족한다.  \n",
    "$$\\begin{equation} Ax=LUx = b \\end{equation}$$   \n",
    "\n",
    "$$\n",
    "\\begin{pmatrix}\n",
    "a_{11} & a_{12} & a_{13} & a_{14} \\\\\n",
    "a_{21} & a_{22} & a_{23} & a_{24} \\\\\n",
    "a_{31} & a_{32} & a_{33} & a_{34} \\\\\n",
    "a_{41} & a_{42} & a_{43} & a_{44} \n",
    "\\end{pmatrix}$\n",
    "$=$\n",
    "$\\begin{pmatrix}\n",
    "l_{11} & 0 & 0 & 0 \\\\\n",
    "l_{21} & l_{22} & 0 & 0 \\\\\n",
    "l_{31} & l_{32} & l_{33} & 0 \\\\\n",
    "l_{41} & l_{42} & l_{43} & l_{44} \n",
    "\\end{pmatrix}$\n",
    "$\\begin{pmatrix}\n",
    "u_{11} & u_{12} & u_{13} & u_{14} \\\\\n",
    "0 & u_{22} & u_{23} & u_{24} \\\\\n",
    "0 & 0 & u_{33} & u_{34} \\\\\n",
    "0 & 0 & 0 & u_{44} \n",
    "\\end{pmatrix}$$  \n",
    "\n",
    "그러면 이제 $Ax=b$를 푸는 대신 아래의 두 개의 삼각행렬로 이루어진 행렬방정식을 풀면 된다.  \n",
    "$$\n",
    "Ux=y, \\\\\n",
    "Ly=b\n",
    "$$\n",
    "\n",
    "삼각행렬의 행렬방정식을 푸는 것은 아래처럼 간단하다.  \n",
    "$$\\begin{pmatrix}\n",
    "t_{11} & t_{12} & t_{13} & t_{14} \\\\\n",
    "0 & t_{22} & t_{23} & t_{24} \\\\\n",
    "0 & 0 & t_{33} & t_{34} \\\\\n",
    "0 & 0 & 0 & t_{44} \n",
    "\\end{pmatrix}\n",
    "\\begin{pmatrix}\n",
    "w \\\\\n",
    "x \\\\\n",
    "y \\\\\n",
    "z \n",
    "\\end{pmatrix}=\n",
    "\\begin{pmatrix}\n",
    "v_1 \\\\\n",
    "v_2 \\\\\n",
    "v_3 \\\\\n",
    "v_4 \n",
    "\\end{pmatrix}$$  \n",
    "그러면 $x$는 간단히 계산할 수 있다.  \n",
    "$\n",
    "v_4=t_{44}z \\\\\n",
    "v_3=t_{33}y+t_{34}z=t_{33}y+t_{34} \\frac{v_4}{t_{44}} , \\\\\n",
    "\\cdots\n",
    "$  "
   ]
  },
  {
   "cell_type": "code",
   "execution_count": null,
   "metadata": {},
   "outputs": [],
   "source": []
  },
  {
   "cell_type": "markdown",
   "metadata": {},
   "source": [
    "나머지 문제는 $L$과 $U$를 구하는 방법이다. 이를 위해 다음처럼 $L$과 $U$를 다시 분해하자.  \n",
    "$$L=L_1 L_2 L_3 L_4$, $U=L_4^{-1} L_3^{-1} L_2^{-1} L_1^{-1} A$$.  \n",
    "\n",
    "따라서\n",
    "$$\n",
    "LU x = L_1 L_2 L_3 L_4 L_4^{-1} L_3^{-1} L_2^{-1} L_1^{-1} A x = b\n",
    "$$\n",
    "\n",
    "그러면 다음처럼 $L_i$를 적으면 된다.  \n",
    "$$  \n",
    "L_1= \n",
    "\\begin{pmatrix}\n",
    "a_{11} & 0 & 0 & 0 \\\\\n",
    "a_{21} & 1 & 0 & 0 \\\\\n",
    "a_{31} & 0 & 1 & 0 \\\\\n",
    "a_{41} & 0 & 0 & 1 \n",
    "\\end{pmatrix},  \\quad\n",
    "L_2= \n",
    "\\begin{pmatrix}\n",
    "1 & 0 & 0 & 0 \\\\\n",
    "0 & b_{22} & 0 & 0 \\\\\n",
    "0 & b_{32} & 1 & 0 \\\\\n",
    "0 & b_{42} & 0 & 1 \n",
    "\\end{pmatrix}, \\quad\n",
    "L_3= \n",
    "\\begin{pmatrix}\n",
    "1 & 0 & 0 & 0 \\\\\n",
    "0 & 1 & 0 & 0 \\\\\n",
    "0 & 0 & c_{33} & 0 \\\\\n",
    "0 & 0 & c_{43} & 1 \n",
    "\\end{pmatrix}, \\quad\n",
    "L_4= \n",
    "\\begin{pmatrix}\n",
    "1 & 0 & 0 & 0 \\\\\n",
    "0 & 1 & 0 & 0 \\\\\n",
    "0 & 0 & 1 & 0 \\\\\n",
    "0 & 0 & 0 & d_{44} \n",
    "\\end{pmatrix}.\n",
    "$$  \n",
    "그러면  \n",
    "$$  \n",
    "L=L_1 L_2 L_3 L_4= \n",
    "\\begin{pmatrix}\n",
    "a_{11} & 0 & 0 & 0 \\\\\n",
    "a_{21} & b_{22} & 0 & 0 \\\\\n",
    "a_{31} & b_{32} & c_{33} & 0 \\\\\n",
    "a_{41} & b_{42} & c_{43} & d_{44} \n",
    "\\end{pmatrix}.$$\n",
    "\n",
    "\n",
    "역행렬도 쉽게 구할 수 있다.  \n",
    "$$  \n",
    "L_1^{-1}=\\frac{1}{a_{11}} \n",
    "\\begin{pmatrix}\n",
    "1 & 0 & 0 & 0 \\\\\n",
    "-a_{21} & a_{11} & 0 & 0 \\\\\n",
    "-a_{31} & 0 & a_{11} & 0 \\\\\n",
    "-a_{41} & 0 & 0 & a_{11} \n",
    "\\end{pmatrix},  \\quad\n",
    "L_2^{-1}= \\frac{1}{b_{22}}\n",
    "\\begin{pmatrix}\n",
    "b_{22} & 0 & 0 & 0 \\\\\n",
    "0 & 1 & 0 & 0 \\\\\n",
    "0 & -b_{32} & b_{22} & 0 \\\\\n",
    "0 & -b_{42} & 0 & b_{22} \n",
    "\\end{pmatrix}, \\quad\n",
    "L_3^{-1}=\\frac{1}{c_{33}} \n",
    "\\begin{pmatrix}\n",
    "c_{33} & 0 & 0 & 0 \\\\\n",
    "0 & c_{33} & 0 & 0 \\\\\n",
    "0 & 0 & 1 & 0 \\\\\n",
    "0 & 0 & -c_{43} & c_{33} \n",
    "\\end{pmatrix}, \\quad\n",
    "L_4^{-1}=\\frac{1}{d_{44}} \n",
    "\\begin{pmatrix}\n",
    "d_{44} & 0 & 0 & 0 \\\\\n",
    "0 & d_{44} & 0 & 0 \\\\\n",
    "0 & 0 & d_{44} & 0 \\\\\n",
    "0 & 0 & 0 & 1 \n",
    "\\end{pmatrix}.\n",
    "$$  \n",
    "\n",
    "다음 과정을 통해 행렬 성분을 구할 수 있다.\n",
    "$$\n",
    "L_1^{-1} A = B, \\quad\n",
    "L_2^{-1} B = C, \\quad\n",
    "L_3^{-1} C = D\n",
    "$$"
   ]
  },
  {
   "cell_type": "code",
   "execution_count": 12,
   "metadata": {},
   "outputs": [
    {
     "data": {
      "text/plain": [
       "array([1., 2., 3., 4.])"
      ]
     },
     "execution_count": 12,
     "metadata": {},
     "output_type": "execute_result"
    }
   ],
   "source": [
    "import numpy as np\n",
    "A=np.array([[1,3,-5,2],[0,4,-2,1],[2,-1,3,-1],[1,1,1,1]])\n",
    "b=np.array([0,6,5,10])\n",
    "x=np.linalg.solve(A,b) # much faster than inv\n",
    "x"
   ]
  },
  {
   "cell_type": "code",
   "execution_count": null,
   "metadata": {},
   "outputs": [],
   "source": []
  },
  {
   "cell_type": "markdown",
   "metadata": {},
   "source": [
    "## 회전\n",
    "* z축을 중심으로 좌표축을 $x$만큼 회전하는 회전행렬은 다음과 같다.  \n",
    "$$\n",
    "R(x)=\n",
    "\\begin{pmatrix}\n",
    "\\cos x & \\sin x & 0 \\\\\n",
    "-\\sin x & \\cos x & 0 \\\\\n",
    "0 & 0 & 1 \n",
    "\\end{pmatrix}\n",
    "$$\n"
   ]
  },
  {
   "cell_type": "code",
   "execution_count": 13,
   "metadata": {},
   "outputs": [],
   "source": [
    "import numpy as np\n",
    "def rot(x):\n",
    "    theta=x*np.pi/180\n",
    "    return np.array([[np.cos(theta),np.sin(theta),0],[-np.sin(theta),np.cos(theta),0],[0,0,1]])"
   ]
  },
  {
   "cell_type": "code",
   "execution_count": 15,
   "metadata": {},
   "outputs": [
    {
     "data": {
      "text/plain": [
       "array([ 1.41421356, -1.41421356,  0.        ])"
      ]
     },
     "execution_count": 15,
     "metadata": {},
     "output_type": "execute_result"
    }
   ],
   "source": [
    "x=[2,0,0]\n",
    "np.dot(rot(45),x)"
   ]
  },
  {
   "cell_type": "markdown",
   "metadata": {},
   "source": [
    "$$R x = x'$$"
   ]
  },
  {
   "cell_type": "code",
   "execution_count": 19,
   "metadata": {},
   "outputs": [
    {
     "data": {
      "text/plain": [
       "array([1.99983940e+00, 1.41421356e-04, 0.00000000e+00])"
      ]
     },
     "execution_count": 19,
     "metadata": {},
     "output_type": "execute_result"
    }
   ],
   "source": [
    "np.linalg.solve(rot(45),np.array([1.4142,-1.414,0])) "
   ]
  },
  {
   "cell_type": "code",
   "execution_count": null,
   "metadata": {},
   "outputs": [],
   "source": []
  }
 ],
 "metadata": {
  "kernelspec": {
   "display_name": "Python 3",
   "language": "python",
   "name": "python3"
  },
  "language_info": {
   "codemirror_mode": {
    "name": "ipython",
    "version": 3
   },
   "file_extension": ".py",
   "mimetype": "text/x-python",
   "name": "python",
   "nbconvert_exporter": "python",
   "pygments_lexer": "ipython3",
   "version": "3.7.4"
  }
 },
 "nbformat": 4,
 "nbformat_minor": 2
}
