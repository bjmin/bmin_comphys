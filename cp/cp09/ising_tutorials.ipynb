{
 "cells": [
  {
   "cell_type": "markdown",
   "metadata": {},
   "source": [
    "# Monte-Carlo Simulation of the Ising Model "
   ]
  },
  {
   "cell_type": "markdown",
   "metadata": {},
   "source": [
    "$$ H = -J \\sum_{\\langle ij \\rangle} s_i s_j $$"
   ]
  },
  {
   "cell_type": "code",
   "execution_count": 9,
   "metadata": {},
   "outputs": [],
   "source": [
    "import numpy as np\n",
    "import matplotlib.pyplot as plt"
   ]
  },
  {
   "cell_type": "markdown",
   "metadata": {},
   "source": [
    "### 초기조건"
   ]
  },
  {
   "cell_type": "code",
   "execution_count": 25,
   "metadata": {},
   "outputs": [],
   "source": [
    "# 초기조건 (L x L)\n",
    "def init(L): \n",
    "    conf = 2*np.random.randint(2, size=(L,L))-1\n",
    "    return conf"
   ]
  },
  {
   "cell_type": "code",
   "execution_count": 27,
   "metadata": {},
   "outputs": [
    {
     "data": {
      "text/plain": [
       "array([[ 1,  1, -1],\n",
       "       [-1, -1,  1],\n",
       "       [-1,  1, -1]])"
      ]
     },
     "execution_count": 27,
     "metadata": {},
     "output_type": "execute_result"
    }
   ],
   "source": [
    "init(3)"
   ]
  },
  {
   "cell_type": "markdown",
   "metadata": {},
   "source": [
    "### 메트로폴리스 알고리즘"
   ]
  },
  {
   "cell_type": "code",
   "execution_count": 28,
   "metadata": {},
   "outputs": [],
   "source": [
    "# monte-carlo steps (MCS) # Let k_B=1\n",
    "def mcs(conf, beta):\n",
    "    L = len(conf)\n",
    "    for i in range(L*L): # n^2 steps\n",
    "        x = np.random.randint(0, L) # randint(0,n): 0~n 사이에 정수를 random하게 \n",
    "        y = np.random.randint(0, L)\n",
    "        si = conf[x, y] # si (s1 + s2 + s3 + s4) \n",
    "        nei = conf[(x+1)%L,y] + conf[x,(y+1)%L] + conf[(x-1)%L,y] + conf[x,(y-1)%L] \n",
    "        # periodic boundary conditions\n",
    "        dE = 2*si*nei # delta energy \n",
    "\n",
    "        # metropolis algorithm\n",
    "        if dE < 0:\n",
    "            si *= -1 # spin flip\n",
    "        elif np.random.rand() < np.exp(-beta*dE):\n",
    "            si *= -1\n",
    "        conf[x, y] = si\n",
    "    return conf"
   ]
  },
  {
   "cell_type": "code",
   "execution_count": 35,
   "metadata": {},
   "outputs": [
    {
     "data": {
      "text/plain": [
       "array([[ 1,  1,  1],\n",
       "       [ 1,  1, -1],\n",
       "       [ 1,  1,  1]])"
      ]
     },
     "execution_count": 35,
     "metadata": {},
     "output_type": "execute_result"
    }
   ],
   "source": [
    "conf = init(3)\n",
    "mcs(conf, 1)"
   ]
  },
  {
   "cell_type": "markdown",
   "metadata": {},
   "source": [
    "### simulations & measurements"
   ]
  },
  {
   "cell_type": "code",
   "execution_count": 114,
   "metadata": {},
   "outputs": [],
   "source": [
    "# monte-carlo steps (MCS)\n",
    "# L: size / n: monte-carlo steps \n",
    "def mag(conf): # magnetization\n",
    "    L = len(conf)\n",
    "    m = np.sum(conf)\n",
    "    return m/L/L\n",
    "\n",
    "def simulations(state,n,beta):\n",
    "    # spin flips\n",
    "    for i in range(n):\n",
    "        mcs(state,beta)\n",
    "    return state"
   ]
  },
  {
   "cell_type": "code",
   "execution_count": 120,
   "metadata": {},
   "outputs": [],
   "source": [
    "L = 10\n",
    "T =np.linspace(4,1,20)\n",
    "M = []\n",
    "\n",
    "state = init(L) # 초기 조건\n",
    "ns = 10\n",
    "for i in T:\n",
    "    # equilibration\n",
    "    simulations(state,100,1/i)\n",
    "    m = 0\n",
    "    for n in range(ns):\n",
    "        conf=simulations(state,10,1/i)\n",
    "        m = m+mag(conf)\n",
    "    M.append(np.abs(m/ns))"
   ]
  },
  {
   "cell_type": "code",
   "execution_count": 121,
   "metadata": {},
   "outputs": [
    {
     "data": {
      "text/plain": [
       "[<matplotlib.lines.Line2D at 0x7fb0f9f2df40>]"
      ]
     },
     "execution_count": 121,
     "metadata": {},
     "output_type": "execute_result"
    },
    {
     "data": {
      "image/png": "[encoded data removed]",
      "text/plain": [
       "<Figure size 432x288 with 1 Axes>"
      ]
     },
     "metadata": {
      "needs_background": "light"
     },
     "output_type": "display_data"
    }
   ],
   "source": [
    "plt.plot(T,M)"
   ]
  },
  {
   "cell_type": "code",
   "execution_count": 122,
   "metadata": {},
   "outputs": [
    {
     "data": {
      "text/plain": [
       "array([[1, 1, 1, 1, 1, 1, 1, 1, 1, 1],\n",
       "       [1, 1, 1, 1, 1, 1, 1, 1, 1, 1],\n",
       "       [1, 1, 1, 1, 1, 1, 1, 1, 1, 1],\n",
       "       [1, 1, 1, 1, 1, 1, 1, 1, 1, 1],\n",
       "       [1, 1, 1, 1, 1, 1, 1, 1, 1, 1],\n",
       "       [1, 1, 1, 1, 1, 1, 1, 1, 1, 1],\n",
       "       [1, 1, 1, 1, 1, 1, 1, 1, 1, 1],\n",
       "       [1, 1, 1, 1, 1, 1, 1, 1, 1, 1],\n",
       "       [1, 1, 1, 1, 1, 1, 1, 1, 1, 1],\n",
       "       [1, 1, 1, 1, 1, 1, 1, 1, 1, 1]])"
      ]
     },
     "execution_count": 122,
     "metadata": {},
     "output_type": "execute_result"
    }
   ],
   "source": [
    "conf"
   ]
  },
  {
   "cell_type": "code",
   "execution_count": 150,
   "metadata": {},
   "outputs": [
    {
     "data": {
      "text/plain": [
       "<matplotlib.image.AxesImage at 0x7fb0fb766e20>"
      ]
     },
     "execution_count": 150,
     "metadata": {},
     "output_type": "execute_result"
    },
    {
     "data": {
      "image/png": "[encoded data removed]",
      "text/plain": [
       "<Figure size 720x216 with 3 Axes>"
      ]
     },
     "metadata": {
      "needs_background": "light"
     },
     "output_type": "display_data"
    }
   ],
   "source": [
    "def exam(L,T):\n",
    "    state = init(L) # 초기 조건\n",
    "    config = simulations(state,500,1/T)\n",
    "    return config\n",
    "\n",
    "plt.figure(figsize=(10,3))\n",
    "plt.subplot(131)\n",
    "plt.imshow(exam(10,1), cmap= 'bwr')\n",
    "plt.subplot(132)\n",
    "plt.imshow(exam(10,2.269), cmap= 'bwr')\n",
    "plt.subplot(133)\n",
    "plt.imshow(exam(10,10), cmap= 'bwr')"
   ]
  },
  {
   "cell_type": "code",
   "execution_count": null,
   "metadata": {},
   "outputs": [],
   "source": []
  }
 ],
 "metadata": {
  "kernelspec": {
   "display_name": "Python 3",
   "language": "python",
   "name": "python3"
  },
  "language_info": {
   "codemirror_mode": {
    "name": "ipython",
    "version": 3
   },
   "file_extension": ".py",
   "mimetype": "text/x-python",
   "name": "python",
   "nbconvert_exporter": "python",
   "pygments_lexer": "ipython3",
   "version": "3.8.3"
  }
 },
 "nbformat": 4,
 "nbformat_minor": 4
}
