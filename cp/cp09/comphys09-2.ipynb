{
 "cells": [
  {
   "cell_type": "markdown",
   "metadata": {},
   "source": [
    "# Monte Carlo Simulation"
   ]
  },
  {
   "cell_type": "markdown",
   "metadata": {},
   "source": [
    "### Two-Level Systems\n",
    "두 개의 에너지 상태($E_x=E, E_y=-E$)를 가지는 서로 독립적인 입자 $N$개가 있다. 개별 입자가 에너지 $E$인 상태로 존재할 확률은 다음처럼 주어진다. \n",
    "$$P_x=\\frac{1}{Z}e^{-\\beta E}, \\quad P_y=\\frac{1}{Z}e^{+\\beta E},$$\n",
    "여기에서 분배함수 $Z$는 다음과 같다.\n",
    "$$Z=e^{-\\beta E}+e^{+\\beta E}.$$\n",
    "만약 우리가 분배함수를 구할 수 있다면 열역학적 변수들을 모두 구할 수 있다. 하지만 분배함수를 구하기 위해서는 가능한 모든 상태들의 정보가 필요하므로 일반적으로 이 과정은 매우 어렵다. 다행히 몬테카를로 방법을 이용하면 분배함수 없이 $P$를 구할 수 있다. 이를 마르코프 체인(Markov Chain) 혹은 마르코프 체인 몬테카를로 방법이라고 부르기도 한다. "
   ]
  },
  {
   "cell_type": "markdown",
   "metadata": {},
   "source": [
    "### Metropolis Algorithm"
   ]
  },
  {
   "cell_type": "markdown",
   "metadata": {},
   "source": [
    "평형상태에서 확률을 구하는 것이 목표이므로 다음 조건을 만족하는 확률 $P$를 찾으면 된다.\n",
    "$$P_x T(x \\rightarrow y) = P_y T(y \\rightarrow x).$$\n",
    "여기에서 $T(x \\rightarrow y)$는 상태 $x$에서 $y$로 전이확률을 의미한다. 위 식을 다시 정리하면\n",
    "$$\\frac{ T(x \\rightarrow y)}{T(y \\rightarrow x)} = \\frac{P_y}{P_x}=\\frac{e^{-\\beta E_y}/Z}{e^{-\\beta E_x}/Z}=e^{-\\beta(E_y-E_x)}.$$\n",
    "위의 식에서 분배함수가 소거되어서 없다는 사실을 확인하여라. 만일 다음을 만족하는 전이확률을 구하고 이 전이확률에 따라 충분히 오랜 시간동안 확률이 변화하면 최종적으로 볼츠만 분포에 도달한다. (엄밀히 말하면 초기에 다른 확률분포에 있던 $P$가 최종적으로 볼츠만 분포로 수렴한다는 것을 증명하지는 않았다. 이 증명은 통계역학 수업에서 다룬다.)"
   ]
  },
  {
   "cell_type": "markdown",
   "metadata": {},
   "source": [
    "이제 남은 과제는 전이확률 $T$를 구하는 것이다. 위의 조건을 만족하는 전이확률은 유일하게 정의되지 않는다. 매우 다양한 가능성이 존재하며 그 중에서 간단하며 흔히 많이 사용되는 메트로폴리스 방법에 대해서 살펴보자. 위의 조건을 만족하는 전이확률을 찾기만 하면 되므로 다음처럼 확률을 구성하자.\n",
    "$E_x>E_y$인 상태에 대해서\n",
    "$$T(y\\rightarrow x)=e^{-\\beta (E_y - E_x)}, \\quad T(x\\rightarrow y)=1. $$\n",
    "위의 식처럼 주어지는 전이확률이 위의 조건을 자명하게 만족한다는 사실을 확인할 수 있다. 이러한 전이확률을 구현하기 위해서 다음의 과정을 거친다."
   ]
  },
  {
   "cell_type": "markdown",
   "metadata": {},
   "source": [
    "1. $N$개의 입자 중에 무작위로 하나를 고른다. 고른 입자를 $i$라고 부르자.\n",
    "2. 입자 $i$의 상태와 에너지를 확인한다. 이를 $E_x$이라고 하자.\n",
    "3. 입자의 상태를 변화했을 때 에너지를 확인하자. 이를 $E_y$라고 하고 에너지 차이를 구한다. $\\Delta E=E_y-E_x$\n",
    "4. 만약 $\\Delta E \\le 0$이면 1의 확률로(즉 항상) 상태를 $x$에서 $y$로 바꾼다.\n",
    "5. 만약 $\\Delta E > 0$이면 $e^{-\\beta \\Delta E}$의 확률로 상태를 $y$로 바꾼다. 즉 0과 1사이의 랜덤넘버를 하나 구해서 이 값이 앞의 확률보다 낮으면 상태를 바꾼다.\n",
    "6. 평형상태에 도달할 때까지 이 과정을 충분히 오래 반복한다."
   ]
  },
  {
   "cell_type": "code",
   "execution_count": 54,
   "metadata": {},
   "outputs": [],
   "source": [
    "import random\n",
    "import numpy as np\n",
    "import matplotlib.pyplot as plt \n",
    "%matplotlib inline\n",
    "\n",
    "# N=1000, beta=1\n",
    "def aveE(b,n):\n",
    "    states = np.ones(n)\n",
    "    for t in range(n*n):\n",
    "        i=random.randint(0,n-1)\n",
    "        DE = -2*states[i]\n",
    "        if DE<0:\n",
    "            states[i]=-1*states[i]\n",
    "        elif random.random()<np.exp(-b*DE):\n",
    "            states[i]=-1*states[i]\n",
    "    return sum(states)"
   ]
  },
  {
   "cell_type": "code",
   "execution_count": 55,
   "metadata": {},
   "outputs": [],
   "source": [
    "temp=np.arange(1,20,1)\n",
    "y=[aveE(1/t,100) for t in temp]"
   ]
  },
  {
   "cell_type": "code",
   "execution_count": 64,
   "metadata": {},
   "outputs": [
    {
     "data": {
      "image/png": "[encoded data removed]",
      "text/plain": [
       "<Figure size 432x288 with 1 Axes>"
      ]
     },
     "metadata": {
      "needs_background": "light"
     },
     "output_type": "display_data"
    }
   ],
   "source": [
    "b=np.arange(1/20,1,0.01)\n",
    "th=-100*np.tanh(1/temp)\n",
    "\n",
    "plt.xlabel('temperature')\n",
    "plt.ylabel('<E>')\n",
    "plt.plot(temp,y,temp,th);"
   ]
  },
  {
   "cell_type": "code",
   "execution_count": null,
   "metadata": {},
   "outputs": [],
   "source": []
  }
 ],
 "metadata": {
  "kernelspec": {
   "display_name": "Python 3",
   "language": "python",
   "name": "python3"
  },
  "language_info": {
   "codemirror_mode": {
    "name": "ipython",
    "version": 3
   },
   "file_extension": ".py",
   "mimetype": "text/x-python",
   "name": "python",
   "nbconvert_exporter": "python",
   "pygments_lexer": "ipython3",
   "version": "3.7.4"
  }
 },
 "nbformat": 4,
 "nbformat_minor": 2
}
