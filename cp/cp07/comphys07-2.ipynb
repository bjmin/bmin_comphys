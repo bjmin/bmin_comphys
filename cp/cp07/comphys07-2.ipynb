{
 "cells": [
  {
   "cell_type": "markdown",
   "metadata": {},
   "source": [
    "# QR decomposition"
   ]
  },
  {
   "cell_type": "markdown",
   "metadata": {},
   "source": [
    "행렬을 대각화 것이 행렬의 고유값과 고유벡터를 구하는 것과 동일한 일임을 알았다. 그러면 효율적인 방법으로 행렬을 대각화할 수 있다면 $n$차 방정식을 푸는 대신 대각화를 통해 고유값 문제를 해결할 수 있다. 대칭행렬 $A$를 대각화하는 과정을 생각하면\n",
    "$$ D = V^{T} A V.$$\n",
    "결국은 $V$행렬을 찾아야 한다."
   ]
  },
  {
   "cell_type": "markdown",
   "metadata": {},
   "source": [
    "이 과정을 빠르고 효과적으로 할 수 있는 방법이 QR 알고리듬이다. 다음의 과정을 살펴보자. 대칭행렬인 $A=A_0$가 있다. 그러면 이 행렬을 다음처럼 직교행렬($Q$)과 다른 행렬($R$)로 나누어 써보자. \n",
    "$$ A_0 = Q_1 R_1$$\n",
    "$Q$는 직교행렬이므로 역행렬을 다음의 관계식 $Q^{-1}=Q^T$을 이용하여 간단히 구할 수 있다. 따라서 $ R_1 = Q_1^{T} Q_1 R_1 = Q_1^T A_0$이다.\n",
    "그러면 다음처럼 $A_1$행렬을 정의하면\n",
    "$$ A_1= R_1 Q_1 = Q_1^{T} A_0 Q_1,$$\n",
    "$A_1$행렬과 $A_0$행렬의 닮은 변환에 해당한다. 이 과정을 반복하면 다음의 식들을 얻는다.\n",
    "$$ A_0 = Q_1 R_1, \\quad A_1 = R_1 Q_1 = Q_1^T A_0 Q_1$$\n",
    "$$ A_1 = Q_2 R_2, \\quad A_2 = R_2 Q_2 = Q_2^T Q_1^T A_0 Q_1 Q_2$$\n",
    "$$ A_2 = Q_3 R_3, \\quad A_3 = R_3 Q_3 = Q_3^T Q_2^T Q_1^T A_0 Q_1 Q_2 Q_3$$\n",
    "$$ \\cdots $$\n",
    "$$ A_{k-1} = Q_k R_k, \\quad A_k = R_k Q_k = Q_k^T Q_{k-1}^T \\cdots Q_2^T Q_1^T A_0 Q_1 Q_2 \\cdots Q_{k-1} Q_{k}.$$\n",
    "이 과정을 충분히 많이 반복하면 $A_k$ 행렬은 대각행렬로 수렴하고 이 때 대각성분이 아이겐밸류에 해당하며 $Q_1 Q_2 \\cdots Q_k$ 행렬이 아이겐벡터에 해당한다. 즉 아이겐벡터의 근사로 이루어진 $Q$행렬을 반복적으로 이용하여 실제 아이겐벡터와 아이겐밸류를 구한다.\n",
    "\n",
    "남아있는 문제는 행렬을 QR행렬로 나누는 과정이다. 이 과정은 다양한 방법을 통해 구현될 수 있으며 간단하게는 Gram-Schmidt 과정을 통해 해결할 수 있다. Gram-Schmidt과정은 주어진 독립적인 벡터들을 정규직교화하는 단순하고 반복적인 과정이다. 자세한 설명은 다음을 참조하자. https://en.wikipedia.org/wiki/Gram%E2%80%93Schmidt_process  \n",
    "\n"
   ]
  },
  {
   "cell_type": "markdown",
   "metadata": {},
   "source": [
    "### 예시 "
   ]
  },
  {
   "cell_type": "markdown",
   "metadata": {},
   "source": [
    "다음의 행렬을 고려하자.\n",
    "$$A_0=\\begin{pmatrix} 3 & 4 \\\\ 4 & 9 \\end{pmatrix}. $$\n",
    "이 행렬의 첫 번째 행은 (3,4)이며 이를 정규화(normalization)하면 \n",
    "$v_1 = \\frac{1}{5} (3,4) $이 된다. 이 벡터와 수직한 벡터를 찾으면 $v_2=\\frac{1}{5} (4,-3)$이다. 그러면 이 때 $Q_1$행렬은\n",
    "$$Q_1=\\frac{1}{5} \\begin{pmatrix} 3 & 4 \\\\ 4 & -3 \\end{pmatrix}. $$\n",
    "그러면 R_1은 다음과 같다.\n",
    "$$R_1=Q_1^T A_0 = \\frac{1}{5} \\begin{pmatrix} 3 & 4 \\\\ 4 & -3 \\end{pmatrix} \\begin{pmatrix} 3 & 4 \\\\ 4 & 9 \\end{pmatrix}=\\frac{1}{5} \\begin{pmatrix} 25 & 48 \\\\ 0 & -11 \\end{pmatrix} . $$\n",
    "그러면 $A_1$은\n",
    "$$A_1=R_1 Q_1 =\\frac{1}{5} \\begin{pmatrix} 25 & 48 \\\\ 0 & -11 \\end{pmatrix} \n",
    "\\frac{1}{5} \\begin{pmatrix} 3 & 4 \\\\ 4 & -3 \\end{pmatrix}. $$\n",
    "이 과정을 이제 반복해보자."
   ]
  },
  {
   "cell_type": "code",
   "execution_count": 50,
   "metadata": {},
   "outputs": [
    {
     "data": {
      "text/plain": [
       "array([[10.68, -1.76],\n",
       "       [-1.76,  1.32]])"
      ]
     },
     "execution_count": 50,
     "metadata": {},
     "output_type": "execute_result"
    }
   ],
   "source": [
    "# 다음의 예시를 살펴보자.\n",
    "import numpy as np\n",
    "a0=np.array([[3,4],[4,9]])\n",
    "q1=np.array([[3,4],[4,-3]])/5\n",
    "r1=np.dot(np.transpose(q1),a0)\n",
    "a1=np.dot(r1,q1)\n",
    "a1"
   ]
  },
  {
   "cell_type": "code",
   "execution_count": 51,
   "metadata": {},
   "outputs": [
    {
     "data": {
      "text/plain": [
       "array([[10.99726869, -0.16524411],\n",
       "       [-0.16524411,  1.00273131]])"
      ]
     },
     "execution_count": 51,
     "metadata": {},
     "output_type": "execute_result"
    }
   ],
   "source": [
    "q2=np.array([[10.68/np.sqrt(10.68**2+1.76**2),1.76/np.sqrt(10.68**2+1.76**2)],\n",
    "             [-1.76/np.sqrt(10.68**2+1.76**2),10.68/np.sqrt(10.68**2+1.76**2)]])\n",
    "r2=np.dot(np.transpose(q2),a1)\n",
    "a2=np.dot(r2,q2)\n",
    "a2"
   ]
  },
  {
   "cell_type": "code",
   "execution_count": 61,
   "metadata": {},
   "outputs": [],
   "source": [
    "def ak(k):\n",
    "    a=np.array([[3,4],[4,9]])\n",
    "    qk=np.array([[1,0],[0,1]])\n",
    "    for i in range(k):\n",
    "        q=np.array([[a[0][0]/np.sqrt(a[0][0]**2+a[1][0]**2),a[1][0]/np.sqrt(a[0][0]**2+a[1][0]**2)],\n",
    "                [a[1][0]/np.sqrt(a[0][0]**2+a[1][0]**2),-a[0][0]/np.sqrt(a[0][0]**2+a[1][0]**2)]])\n",
    "        r=np.dot(np.transpose(q),a)\n",
    "        a=np.dot(r,q)\n",
    "        qk=np.dot(q,qk)\n",
    "    return a,qk"
   ]
  },
  {
   "cell_type": "code",
   "execution_count": 62,
   "metadata": {},
   "outputs": [
    {
     "data": {
      "text/plain": [
       "(array([[1.10000000e+001, 4.19401853e-016],\n",
       "        [1.45131432e-103, 1.00000000e+000]]),\n",
       " array([[ 0.4472136 ,  0.89442719],\n",
       "        [-0.89442719,  0.4472136 ]]))"
      ]
     },
     "execution_count": 62,
     "metadata": {},
     "output_type": "execute_result"
    }
   ],
   "source": [
    "ak(100)"
   ]
  },
  {
   "cell_type": "code",
   "execution_count": 58,
   "metadata": {},
   "outputs": [
    {
     "data": {
      "text/plain": [
       "(array([ 1., 11.]), array([[-0.89442719, -0.4472136 ],\n",
       "        [ 0.4472136 , -0.89442719]]))"
      ]
     },
     "execution_count": 58,
     "metadata": {},
     "output_type": "execute_result"
    }
   ],
   "source": [
    "np.linalg.eig(a0)"
   ]
  },
  {
   "cell_type": "code",
   "execution_count": 55,
   "metadata": {},
   "outputs": [
    {
     "data": {
      "text/plain": [
       "<matplotlib.image.AxesImage at 0x7ff3b953a890>"
      ]
     },
     "execution_count": 55,
     "metadata": {},
     "output_type": "execute_result"
    },
    {
     "data": {
      "image/png": "[encoded data removed]",
      "text/plain": [
       "<Figure size 432x288 with 1 Axes>"
      ]
     },
     "metadata": {
      "needs_background": "light"
     },
     "output_type": "display_data"
    }
   ],
   "source": [
    "%matplotlib inline\n",
    "import matplotlib.pyplot as plt\n",
    "\n",
    "plt.imshow(ak(100), cmap='hot')"
   ]
  }
 ],
 "metadata": {
  "kernelspec": {
   "display_name": "Python 3",
   "language": "python",
   "name": "python3"
  },
  "language_info": {
   "codemirror_mode": {
    "name": "ipython",
    "version": 3
   },
   "file_extension": ".py",
   "mimetype": "text/x-python",
   "name": "python",
   "nbconvert_exporter": "python",
   "pygments_lexer": "ipython3",
   "version": "3.7.4"
  }
 },
 "nbformat": 4,
 "nbformat_minor": 2
}
