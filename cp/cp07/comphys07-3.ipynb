{
 "cells": [
  {
   "cell_type": "markdown",
   "metadata": {},
   "source": [
    "# 1. Eigenfunctions and Differential Equations"
   ]
  },
  {
   "cell_type": "markdown",
   "metadata": {},
   "source": [
    "Harmonic oscillator문제를 살펴보자. Equation of motion은 대략 다음처럼 주어진다.\n",
    "$$ \\frac{d^2 y}{dt^2} + w^2 y = 0.  $$\n",
    "선형 오퍼레이터 $L$을 도입하면 이러한 종류의 방정식은 일반적으로 다음처럼 쓸 수 있다.\n",
    "$$ L y(x) = \\lambda y(x). $$\n",
    "\n",
    "우리는 다음과 같은 아이디어로 문제를 해결할 것이다."
   ]
  },
  {
   "cell_type": "markdown",
   "metadata": {},
   "source": [
    "1. Boundary conidtions에 따라 다음의 식을 만족하는 많은 $y_i$를 구한다. \n",
    "$$L y_i = \\lambda y_i$$\n",
    "2. $y_i$의 superposition으로 $y(x)$를 구한다.\n",
    "다음의 방법은 일견 복잡해보이지만 매우 강력하며 (보기보다는) 간단하다. (왜냐하면 $L$이 Hermitian operator이면 $y_i$가 completeness와 orthogonality를 만족하기 때문이다. 자세한 내용은 수리물리책 self-adjoint, Strum-Liouvile equation 등의 내용을 참조하자.)\n",
    "\n",
    "위의 식 $ L y_i = \\lambda y_i$는 익숙한 고유값 방정식과 같은 형태이다."
   ]
  },
  {
   "cell_type": "markdown",
   "metadata": {},
   "source": [
    "# 2. Power of a Matrix "
   ]
  },
  {
   "cell_type": "markdown",
   "metadata": {},
   "source": [
    "주어진 행렬 $A$의 거듭제곱을 계산해보자. 우선 행렬 $A$를 대각화한다. "
   ]
  },
  {
   "cell_type": "markdown",
   "metadata": {},
   "source": [
    "직교행렬 $O$를 이용해서 대칭행렬 $A$를 대각화할 수 있다.\n",
    "$$ D = O^T A O. $$\n",
    "그러면 다음도 성립한다.\n",
    "$$ A = O D O^T. $$\n",
    "$$ A^2 = ODO^T ODO^T $$\n",
    "O는 대칭행렬이므로 $O^T O = 1$이며\n",
    "$$ A^2 = OD^2 O^T $$"
   ]
  },
  {
   "cell_type": "markdown",
   "metadata": {},
   "source": [
    "따라서 $$A^n = O D^n O^T$$이다. $D$는 대각행렬이므로 $D^n$은 쉽게 계산할 수 있다."
   ]
  },
  {
   "cell_type": "markdown",
   "metadata": {},
   "source": [
    "# 3. Coupled Linear DE"
   ]
  },
  {
   "cell_type": "markdown",
   "metadata": {},
   "source": [
    "다음처럼 주어지는 연립 미분방정식을 살펴보자.\n",
    "$$ \\frac{dx}{dt} = a x + by, \\\\ \\frac{dy}{dt} = c x + d y. $$\n",
    "위의 연립 미분방정식은 행렬의 형태로 표현할 수 있다.  \n",
    "$ \\begin{pmatrix} \\dot{x} \\\\ \\dot{y} \\end{pmatrix} = \\begin{pmatrix} a & b \\\\ c & d \\end{pmatrix} \\begin{pmatrix} x \\\\ y \\end{pmatrix} $"
   ]
  },
  {
   "cell_type": "markdown",
   "metadata": {},
   "source": [
    "다음의 해가 위의 방정식을 만족할 것이다. \n",
    "$$ x = p e^{\\lambda t}, \\quad y = q e^{\\lambda t}. $$ \n",
    "이를 대입하고 나면 결국 위의 문제는 아래와 같은 고유값, 고유벡터를 구하는 문제로 귀결된다는 것을 알 수 있다.  \n",
    "$ \\lambda \\begin{pmatrix} p \\\\ q \\end{pmatrix} = \\begin{pmatrix} a & b \\\\ c & d \\end{pmatrix} \\begin{pmatrix} p \\\\ q \\end{pmatrix} $"
   ]
  },
  {
   "cell_type": "code",
   "execution_count": null,
   "metadata": {},
   "outputs": [],
   "source": []
  }
 ],
 "metadata": {
  "kernelspec": {
   "display_name": "Python 3",
   "language": "python",
   "name": "python3"
  },
  "language_info": {
   "codemirror_mode": {
    "name": "ipython",
    "version": 3
   },
   "file_extension": ".py",
   "mimetype": "text/x-python",
   "name": "python",
   "nbconvert_exporter": "python",
   "pygments_lexer": "ipython3",
   "version": "3.7.4"
  }
 },
 "nbformat": 4,
 "nbformat_minor": 2
}
