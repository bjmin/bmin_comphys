{
 "cells": [
  {
   "cell_type": "markdown",
   "metadata": {},
   "source": [
    "## Matrix (행렬)"
   ]
  },
  {
   "cell_type": "code",
   "execution_count": 8,
   "metadata": {},
   "outputs": [
    {
     "data": {
      "text/latex": [
       "$\\displaystyle \\left[\\begin{matrix}a & b\\\\c & d\\end{matrix}\\right]$"
      ],
      "text/plain": [
       "Matrix([\n",
       "[a, b],\n",
       "[c, d]])"
      ]
     },
     "execution_count": 8,
     "metadata": {},
     "output_type": "execute_result"
    }
   ],
   "source": [
    "from sympy import *\n",
    "\n",
    "a,b,c,d=symbols(\"a,b,c,d\")\n",
    "A = Matrix( [[a,b],[c,d]])\n",
    "B = Matrix( [[0,1],[1,0]])\n",
    "A"
   ]
  },
  {
   "cell_type": "code",
   "execution_count": 14,
   "metadata": {},
   "outputs": [
    {
     "data": {
      "text/latex": [
       "$\\displaystyle \\left[\\begin{matrix}a^{2} + b c & b \\left(a + d\\right)\\\\c \\left(a + d\\right) & b c + d^{2}\\end{matrix}\\right]$"
      ],
      "text/plain": [
       "Matrix([\n",
       "[a**2 + b*c,  b*(a + d)],\n",
       "[ c*(a + d), b*c + d**2]])"
      ]
     },
     "execution_count": 14,
     "metadata": {},
     "output_type": "execute_result"
    }
   ],
   "source": [
    "simplify(A*A*B*B)"
   ]
  },
  {
   "cell_type": "code",
   "execution_count": 18,
   "metadata": {},
   "outputs": [
    {
     "data": {
      "text/latex": [
       "$\\displaystyle -1$"
      ],
      "text/plain": [
       "-1"
      ]
     },
     "execution_count": 18,
     "metadata": {},
     "output_type": "execute_result"
    }
   ],
   "source": [
    "B.det()"
   ]
  },
  {
   "cell_type": "code",
   "execution_count": 37,
   "metadata": {},
   "outputs": [],
   "source": [
    "C = Matrix( [[0,b,a],[2,2*b,3],[1,2,3*c]] )"
   ]
  },
  {
   "cell_type": "code",
   "execution_count": 32,
   "metadata": {},
   "outputs": [
    {
     "data": {
      "text/latex": [
       "$\\displaystyle \\left[\\begin{matrix}\\frac{2 b \\left(6 c - 3\\right) + 6 b - 12}{a \\left(8 - 4 b\\right)} & \\frac{4}{8 - 4 b} & - \\frac{4 b}{8 - 4 b}\\\\\\frac{3 - 6 c}{a \\left(4 - 2 b\\right)} & - \\frac{1}{4 - 2 b} & \\frac{2}{4 - 2 b}\\\\\\frac{1}{a} & 0 & 0\\end{matrix}\\right]$"
      ],
      "text/plain": [
       "Matrix([\n",
       "[(2*b*(6*c - 3) + 6*b - 12)/(a*(8 - 4*b)),  4/(8 - 4*b), -4*b/(8 - 4*b)],\n",
       "[                 (3 - 6*c)/(a*(4 - 2*b)), -1/(4 - 2*b),    2/(4 - 2*b)],\n",
       "[                                     1/a,            0,              0]])"
      ]
     },
     "execution_count": 32,
     "metadata": {},
     "output_type": "execute_result"
    }
   ],
   "source": [
    "C.inv()"
   ]
  },
  {
   "cell_type": "markdown",
   "metadata": {},
   "source": [
    "## eigenvects & eigenvals"
   ]
  },
  {
   "cell_type": "code",
   "execution_count": 53,
   "metadata": {},
   "outputs": [],
   "source": [
    "B = Matrix( [[a,b,0],[b,b,b],[0,0,c]] ) "
   ]
  },
  {
   "cell_type": "code",
   "execution_count": 54,
   "metadata": {},
   "outputs": [
    {
     "data": {
      "text/plain": [
       "{c: 1,\n",
       " a/2 + b/2 - sqrt(a**2 - 2*a*b + 5*b**2)/2: 1,\n",
       " a/2 + b/2 + sqrt(a**2 - 2*a*b + 5*b**2)/2: 1}"
      ]
     },
     "execution_count": 54,
     "metadata": {},
     "output_type": "execute_result"
    }
   ],
   "source": [
    "B.eigenvals()"
   ]
  },
  {
   "cell_type": "markdown",
   "metadata": {},
   "source": [
    "## dsolve & function (미분방정식 풀기)"
   ]
  },
  {
   "cell_type": "code",
   "execution_count": 55,
   "metadata": {},
   "outputs": [
    {
     "data": {
      "text/latex": [
       "$\\displaystyle x{\\left(t \\right)}$"
      ],
      "text/plain": [
       "x(t)"
      ]
     },
     "execution_count": 55,
     "metadata": {},
     "output_type": "execute_result"
    }
   ],
   "source": [
    "t = symbols('t')\n",
    "x = Function('x') # define x as a function of t\n",
    "x(t)"
   ]
  },
  {
   "cell_type": "markdown",
   "metadata": {},
   "source": [
    "$$ x(t), \\frac{dx}{dt} $$"
   ]
  },
  {
   "cell_type": "code",
   "execution_count": 56,
   "metadata": {},
   "outputs": [
    {
     "data": {
      "text/latex": [
       "$\\displaystyle \\frac{d}{d t} x{\\left(t \\right)}$"
      ],
      "text/plain": [
       "Derivative(x(t), t)"
      ]
     },
     "execution_count": 56,
     "metadata": {},
     "output_type": "execute_result"
    }
   ],
   "source": [
    "x(t).diff(t)"
   ]
  },
  {
   "cell_type": "code",
   "execution_count": 57,
   "metadata": {},
   "outputs": [
    {
     "data": {
      "text/latex": [
       "$\\displaystyle \\frac{d}{d t} x{\\left(t \\right)} = - x{\\left(t \\right)}$"
      ],
      "text/plain": [
       "Eq(Derivative(x(t), t), -x(t))"
      ]
     },
     "execution_count": 57,
     "metadata": {},
     "output_type": "execute_result"
    }
   ],
   "source": [
    "Eq(x(t).diff(t),-1*x(t))"
   ]
  },
  {
   "cell_type": "code",
   "execution_count": 59,
   "metadata": {},
   "outputs": [
    {
     "data": {
      "text/latex": [
       "$\\displaystyle x{\\left(t \\right)} = C_{1} e^{- a t}$"
      ],
      "text/plain": [
       "Eq(x(t), C1*exp(-a*t))"
      ]
     },
     "execution_count": 59,
     "metadata": {},
     "output_type": "execute_result"
    }
   ],
   "source": [
    "dsolve(Eq(x(t).diff(t),-a*x(t)))"
   ]
  },
  {
   "cell_type": "markdown",
   "metadata": {},
   "source": [
    "### Harmonic Oscillators"
   ]
  },
  {
   "cell_type": "code",
   "execution_count": 79,
   "metadata": {},
   "outputs": [
    {
     "data": {
      "image/png": "[encoded data removed]",
      "text/latex": [
       "$\\displaystyle x{\\left(t \\right)} = C_{1} e^{- i t w} + C_{2} e^{i t w}$"
      ],
      "text/plain": [
       "           -ⅈ⋅t⋅w       ⅈ⋅t⋅w\n",
       "x(t) = C₁⋅ℯ       + C₂⋅ℯ     "
      ]
     },
     "execution_count": 79,
     "metadata": {},
     "output_type": "execute_result"
    }
   ],
   "source": [
    "b,w=symbols(\"b,w\")\n",
    "deq = Eq(x(t).diff(t,2),-w**2*x(t))\n",
    "dsolve(deq)"
   ]
  },
  {
   "cell_type": "code",
   "execution_count": 81,
   "metadata": {},
   "outputs": [
    {
     "data": {
      "image/png": "[encoded data removed]",
      "text/latex": [
       "$\\displaystyle x{\\left(t \\right)} = C_{1} e^{\\frac{t \\left(- b - \\sqrt{b^{2} - 4 w^{2}}\\right)}{2}} + C_{2} e^{\\frac{t \\left(- b + \\sqrt{b^{2} - 4 w^{2}}\\right)}{2}}$"
      ],
      "text/plain": [
       "             ⎛        ___________⎞         ⎛        ___________⎞\n",
       "             ⎜       ╱  2      2 ⎟         ⎜       ╱  2      2 ⎟\n",
       "           t⋅⎝-b - ╲╱  b  - 4⋅w  ⎠       t⋅⎝-b + ╲╱  b  - 4⋅w  ⎠\n",
       "           ───────────────────────       ───────────────────────\n",
       "                      2                             2           \n",
       "x(t) = C₁⋅ℯ                        + C₂⋅ℯ                       "
      ]
     },
     "execution_count": 81,
     "metadata": {},
     "output_type": "execute_result"
    }
   ],
   "source": [
    "deq2 = Eq(x(t).diff(t,2),-b*x(t).diff(t,1)-w**2*x(t))\n",
    "dsolve(deq2)"
   ]
  }
 ],
 "metadata": {
  "kernelspec": {
   "display_name": "Python 3",
   "language": "python",
   "name": "python3"
  },
  "language_info": {
   "codemirror_mode": {
    "name": "ipython",
    "version": 3
   },
   "file_extension": ".py",
   "mimetype": "text/x-python",
   "name": "python",
   "nbconvert_exporter": "python",
   "pygments_lexer": "ipython3",
   "version": "3.7.4"
  }
 },
 "nbformat": 4,
 "nbformat_minor": 2
}
