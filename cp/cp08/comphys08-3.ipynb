{
 "cells": [
  {
   "cell_type": "markdown",
   "metadata": {},
   "source": [
    "# Discrete Fourier Transform"
   ]
  },
  {
   "cell_type": "markdown",
   "metadata": {},
   "source": [
    "푸리에 변환식은 다음과 같다.\n",
    "$$ \n",
    "g(k)= \\int_{-\\infty}^{\\infty} f(x) e^{-i k x} dx.\n",
    "$$\n",
    "컴퓨터로 푸리에 변환을 계산하기 위해 적분이 아닌 sum을 계산해야 합니다. 이를 이산 푸리에 변환(discrete fourier transform)이라 합니다. "
   ]
  },
  {
   "cell_type": "markdown",
   "metadata": {},
   "source": [
    "$N$의 값을 가진 함수 (혹은 데이터) $f(x)$를 변환하는 과정을 생각해봅시다. \n",
    "$$ \n",
    "g(k) = \\int_{0}^{N} f(x) e^{- 2 \\pi i k x/N} dx \\\\\n",
    "g_k  \\approx  \\sum_{n=0}^{N-1} f(n ) e^{- 2 \\pi i k n /N}.\n",
    "$$\n",
    "\n",
    "다음의 과정을 통해 $g(k)$를 구할 수 있으며 마찬가지로 $g(k)$를 알면 역변환을 통해 $f(x)$를 얻을 수 있습니다. 역변환은 다음으로 주어집니다.\n",
    "$$ \n",
    "f_n = \\frac{1}{N} \\sum_{k=0}^{N-1} g(k) e^{2 \\pi i k n/N} \n",
    "$$\n"
   ]
  },
  {
   "cell_type": "markdown",
   "metadata": {},
   "source": [
    "# Fast Fourier Transform"
   ]
  },
  {
   "cell_type": "markdown",
   "metadata": {},
   "source": [
    "고속 푸리에 변환은 이산 푸리에 변환의 계산 복잡도를 극적으로 낮추는 알고리듬입니다. 참고로 20세기 중요한 10대 알고리듬에 선정되었을 정도로 중요하고 활용성이 높은 알고리듬입니다.\n",
    "\n",
    "다음의 간단한 예시를 통해 고속 푸리에 변환이 작동하는 방식을 살짝 엿보기로 합시다. 자세한 설명을 다음 문헌을 참조하세요. \n",
    "https://en.wikipedia.org/wiki/Fast_Fourier_transform\n",
    "\n",
    "$e^{- 2 \\pi i/N}$를 $W$로 치환하면 다음처럼 식을 변형할 수 있습니다.\n",
    "$$g_k  = \\sum_{n=0}^{N-1} f(n ) e^{- 2 \\pi i k n /N} = \\sum_{n=0}^{N-1} f(n ) (e^{- 2 \\pi i/N})^{k n}= \\sum_{n=0}^{N-1}  W^{k n} f(n ). $$\n",
    "\n",
    "$N=4$인 간단한 예시를 살펴봅시다. 위의 식을 행렬형태로 고쳐쓰면 다음과 같습니다.\n",
    "\n",
    "$$\n",
    "\\begin{pmatrix}\n",
    "g_0 \\\\ g_1 \\\\ g_2 \\\\ g_3\n",
    "\\end{pmatrix}\n",
    "=\n",
    "\\begin{pmatrix}\n",
    "W^0 & W^0 & W^0 & W^0  \\\\\n",
    "W^0 & W^1 & W^2 & W^3  \\\\\n",
    "W^0 & W^2 & W^4 & W^6  \\\\\n",
    "W^0 & W^3 & W^6 & W^9  \n",
    "\\end{pmatrix}\n",
    "\\begin{pmatrix}\n",
    "f_0 \\\\ f_1 \\\\ f_2 \\\\ f_3\n",
    "\\end{pmatrix}\n",
    "$$"
   ]
  },
  {
   "cell_type": "markdown",
   "metadata": {},
   "source": [
    "$f_n$을 $n$이 홀수, 짝수인 항으로 묶어주면 다음처럼 됩니다.  \n",
    "$$\n",
    "\\begin{pmatrix}\n",
    "g_0 \\\\ g_1 \\\\ g_2 \\\\ g_3\n",
    "\\end{pmatrix}\n",
    "=\n",
    "\\begin{pmatrix}\n",
    "W^0 & W^0 & W^0 & W^0  \\\\\n",
    "W^0 & W^2 & W^1 & W^3  \\\\\n",
    "W^0 & W^4 & W^2 & W^6  \\\\\n",
    "W^0 & W^6 & W^3 & W^9  \n",
    "\\end{pmatrix}\n",
    "\\begin{pmatrix}\n",
    "f_0 \\\\ f_2 \\\\ f_1 \\\\ f_3\n",
    "\\end{pmatrix}\n",
    "$$\n",
    "\n",
    "행렬만 살펴보면 다음처럼 쓸 수 있습니다.\n",
    "\n",
    "$$\n",
    "\\begin{pmatrix}\n",
    "W^0 & W^0 & W^0 & W^0  \\\\\n",
    "W^0 & W^2 & W^1 & W^1 W^2  \\\\\n",
    "W^0 & W^4 & W^2 & W^2 W^4  \\\\\n",
    "W^0 & W^6 & W^3 & W^3 W^6  \n",
    "\\end{pmatrix}\n",
    "$$\n",
    "\n",
    "또한 $W=e^{-2 \\pi i /N}$이므로 $W^4= W^0$과 같다. 따라서  \n",
    "$$\n",
    "\\begin{pmatrix}\n",
    "W^0 & W^0 & W^0 & W^0  \\\\\n",
    "W^0 & W^2 & W^1 & W^1 W^2  \\\\\n",
    "W^0 & W^0 & W^2 & W^2 W^0  \\\\\n",
    "W^0 & W^2 & W^3 & W^3 W^2  \n",
    "\\end{pmatrix}\n",
    "$$\n",
    "\n",
    "위의 행렬은 분해될 수 있으며 따라서 $4x4$행렬 계산이 $2x2$행렬 계산으로 축소됩니다. 큰 $N$에 대해서 다음의 과정을 반복하면 연산 속도가 크게 향상됩니다."
   ]
  },
  {
   "cell_type": "code",
   "execution_count": null,
   "metadata": {},
   "outputs": [],
   "source": []
  }
 ],
 "metadata": {
  "kernelspec": {
   "display_name": "Python 3",
   "language": "python",
   "name": "python3"
  },
  "language_info": {
   "codemirror_mode": {
    "name": "ipython",
    "version": 3
   },
   "file_extension": ".py",
   "mimetype": "text/x-python",
   "name": "python",
   "nbconvert_exporter": "python",
   "pygments_lexer": "ipython3",
   "version": "3.7.4"
  }
 },
 "nbformat": 4,
 "nbformat_minor": 2
}
