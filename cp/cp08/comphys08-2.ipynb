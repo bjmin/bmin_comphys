{
 "cells": [
  {
   "cell_type": "markdown",
   "metadata": {},
   "source": [
    "# 푸리에 변환"
   ]
  },
  {
   "cell_type": "markdown",
   "metadata": {},
   "source": [
    "## 푸리에 Exp 급수\n",
    "주기가 $2\\pi$인 함수 $f(x)$를 다음처럼 사인과 코사인의 결합으로 쓸 수 있다.(dirichlet theorem) \n",
    "$$ f(x) = \\frac{B_0}{2}+ \\sum_{n=1}^{\\infty} B_n \\cos(n x)+ A_n \\sin( n t).$$\n",
    "\n",
    "오일러 항등식을 이용하면 \n",
    "$$ \\cos( nx) = \\frac{1}{2} (e^{i nx}+e^{-inx}), \\sin( nx) = \\frac{1}{2i} (e^{i nx}-e^{-inx})$$\n",
    "이므로 위의 식은 다음처럼 쓸 수 있다.\n",
    "\n",
    "$$ \n",
    "f(x) = \\frac{B_0}{2}+ \\sum_n B_n \\cos(n x)+ A_n \\sin( n t ) \\\\\n",
    "=\\sum_n \\frac{B_n}{2}(e^{i nx}+e^{-inx}) + \\frac{A_n}{2i} (e^{i nx}-e^{-inx}) \\\\\n",
    "=\\sum_{n=0}^{\\infty} \\left( \\frac{B_n}{2}+\\frac{A_n}{2i} \\right) e^{i nx} +\\left( \\frac{B_n}{2}-\\frac{A_n}{2i} \\right) e^{-inx} =\\sum_{n=-\\infty}^{\\infty} g_n e^{inx}.\n",
    "$$"
   ]
  },
  {
   "cell_type": "markdown",
   "metadata": {},
   "source": [
    "다음으로 계수 $c_n$을 구하는 방법을 생각해보자. 우선\n",
    "$$ \\int_{-\\pi}^{\\pi} e^{inx} e^{-imx}dx = 2 \\pi \\delta{n,m}.$$\n",
    "따라서\n",
    "$$ \\int_{-\\pi}^{\\pi} f(x) e^{-inx} dx = 2 \\pi g_m.$$\n",
    "즉,\n",
    "$$ g_n = \\frac{1}{2 \\pi} \\int_{-\\pi}^{\\pi} f(x) e^{-inx} dx.$$"
   ]
  },
  {
   "cell_type": "markdown",
   "metadata": {},
   "source": [
    "## 푸리에 변환"
   ]
  },
  {
   "cell_type": "markdown",
   "metadata": {},
   "source": [
    "지금까지 내용을 정리하면 주기가 $2 \\pi$인 함수의 푸리에 급수는 다음과 같다.\n",
    "$$\n",
    "f(x) = \\sum_n g_n e^{i n x}, \\\\\n",
    "g_n = \\frac{1}{2\\pi} \\int_{-\\pi}^{\\pi} f(x) e^{-i n x} dx.\n",
    "$$\n",
    "\n",
    "주기가 $2 \\pi$인 함수를 고려한 것은 표기상의 편리함때문이었다. 이제 다음의 단계를 거쳐 푸리에 급수에서 푸리에 변환을 유도할 것이다.  \n",
    "1. 위의 식을 주기가 $2 L$인 일반적인 주기함수에 대한 식으로 바꾼다.   \n",
    "2. 주기 $L \\rightarrow \\infty$인 상황, 즉 비주기적 함수에 대한 f(x), g(n)식을 찾는다."
   ]
  },
  {
   "cell_type": "markdown",
   "metadata": {},
   "source": [
    "### 1. 주기가 2L인 함수에 대한 푸리에 급수"
   ]
  },
  {
   "cell_type": "markdown",
   "metadata": {},
   "source": [
    "주기가 $2L$인 함수를 생각하고 다음처럼 변환을 하자.\n",
    "$$[-\\pi, \\pi] \\rightarrow [-L, L]$$\n",
    "그러면 자연스럽게 $\\pi \\rightarrow L$, $n \\rightarrow n\\pi/L$으로 바꾸어주면 된다. 따라서 다음과 같은 식을 얻는다.\n",
    "\n",
    "$$\n",
    "f(x) = \\sum_n g_n e^{i \\pi n x/L}, \\\\\n",
    "g_n = \\frac{1}{2L} \\int_{-L}^{L} f(x) e^{-i \\pi n x/L} dx.\n",
    "$$"
   ]
  },
  {
   "cell_type": "markdown",
   "metadata": {},
   "source": [
    "### 2. 비주기적 함수"
   ]
  },
  {
   "cell_type": "markdown",
   "metadata": {},
   "source": [
    "비주기적 함수를 다루기 위해 주기 $L \\rightarrow \\infty$인 극한을 취할 것이며 이를 위해 다음처럼 변수를 변환해두자.\n",
    "$$ k = \\frac{\\pi}{L}n, \\quad \\Delta k = \\frac{\\pi}{L} \\Delta n $$\n",
    "그러면 \n",
    "$$ \n",
    "\\begin{align}\n",
    "f(x) &= \\sum_{n=-\\infty}^{\\infty} g_n e^{i \\pi n x/L} \\\\\n",
    "&= \\sum_n \\left( \\frac{1}{2L} \\int_{-L}^{L} f(x) e^{-i \\pi n x/L} dx \\right) e^{i \\pi n x/L} \\\\\n",
    "&= \\frac{1}{2L} \\sum_{k=-\\infty}^{\\infty} \\frac{L}{\\pi}\\Delta k \\left( \\int_{-L}^{L} f(x) e^{-i k x} dx \\right) e^{i k x} \\\\\n",
    "&= \\frac{1}{2 \\pi} \\sum_k  \\Delta k \\left( \\int_{-L}^{L} f(x) e^{-i k x} dx \\right) e^{i k x}. \n",
    "\\end{align}\n",
    "$$\n",
    "여기에서 $L \\rightarrow \\infty$인 극한을 취하면\n",
    "$$ \n",
    "f(x) = \\frac{1}{2 \\pi} \\int_{-\\infty}^{\\infty} \\left( \\int_{-\\infty}^{\\infty} f(x) e^{-i k x} dx \\right) e^{i k x} dk. \n",
    "$$\n",
    "안에 있는 적분을 $g(k)$라고 정의하면 다음과 같은 대칭적인 식을 얻는다. \n",
    "$$ \n",
    "g(k)= \\int_{-\\infty}^{\\infty} f(x) e^{-i k x} dk, \\\\\n",
    "f(x) = \\frac{1}{2 \\pi} \\int_{-\\infty}^{\\infty} g(k) e^{i k x} dk. \n",
    "$$\n",
    "위의 식을 각각 푸리에 변환, 푸리에 역변환이라고 부른다."
   ]
  },
  {
   "cell_type": "code",
   "execution_count": null,
   "metadata": {},
   "outputs": [],
   "source": []
  }
 ],
 "metadata": {
  "kernelspec": {
   "display_name": "Python 3",
   "language": "python",
   "name": "python3"
  },
  "language_info": {
   "codemirror_mode": {
    "name": "ipython",
    "version": 3
   },
   "file_extension": ".py",
   "mimetype": "text/x-python",
   "name": "python",
   "nbconvert_exporter": "python",
   "pygments_lexer": "ipython3",
   "version": "3.7.4"
  }
 },
 "nbformat": 4,
 "nbformat_minor": 2
}
