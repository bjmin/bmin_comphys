{
 "cells": [
  {
   "cell_type": "markdown",
   "metadata": {},
   "source": [
    "## Github desktop"
   ]
  },
  {
   "cell_type": "markdown",
   "metadata": {},
   "source": [
    "다음의 차례대로 깃허브 사용법을 익히고 아래 과제를 자신의 깃허브 저장소에 업로드(push)하시기 바랍니다.\n",
    "1. github에 계정을 만든다.\n",
    "2. 새로운 저장소(repository)를 만든다. (create a new repository)\n",
    "3. github desktop을 다운로드 및 설치한다.\n",
    "4. 온라인 상의 저장소를 로컬컴퓨터로 가져온다. (pull)\n",
    "5. commit, push로 내 컴퓨터에 있는 파일을 저장소에 업데이트한다.\n",
    "\n",
    "참고 : 구글에 \"깃허브 사용법\", \"깃허브 데스크탑 사용법\"을 검색하세요."
   ]
  },
  {
   "cell_type": "markdown",
   "metadata": {},
   "source": [
    "## 구구단"
   ]
  },
  {
   "cell_type": "markdown",
   "metadata": {},
   "source": [
    "1. 구구단 1단부터 9단까지 출력하는 코드를 작성하여 ipynb파일로 저장한다.\n",
    "2. 자신의 github에 과제를 제출한다.\n",
    "3. 자신의 github주소를 ecampus에 과제에 올린다."
   ]
  },
  {
   "cell_type": "code",
   "execution_count": 10,
   "metadata": {},
   "outputs": [],
   "source": []
  }
 ],
 "metadata": {
  "kernelspec": {
   "display_name": "Python 3",
   "language": "python",
   "name": "python3"
  },
  "language_info": {
   "codemirror_mode": {
    "name": "ipython",
    "version": 3
   },
   "file_extension": ".py",
   "mimetype": "text/x-python",
   "name": "python",
   "nbconvert_exporter": "python",
   "pygments_lexer": "ipython3",
   "version": "3.7.4"
  }
 },
 "nbformat": 4,
 "nbformat_minor": 2
}
